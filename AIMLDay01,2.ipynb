{
 "cells": [
  {
   "cell_type": "code",
   "execution_count": 3,
   "id": "bf638a18-7d5d-4feb-a0de-4613ee3ac9b2",
   "metadata": {},
   "outputs": [
    {
     "name": "stdin",
     "output_type": "stream",
     "text": [
      "enter your name: monika\n",
      "enter your age: 18\n"
     ]
    },
    {
     "name": "stdout",
     "output_type": "stream",
     "text": [
      "monika\n",
      "you are elegible\n"
     ]
    }
   ],
   "source": [
    "name=input(\"enter your name:\")\n",
    "age=int(input(\"enter your age:\"))\n",
    "\n",
    "if age>=18:\n",
    "        print(name)\n",
    "        print(\"you are elegible\")\n",
    "else:\n",
    "        print(name)\n",
    "        print(\"you are not elegible\")\n"
   ]
  },
  {
   "cell_type": "code",
   "execution_count": null,
   "id": "331d234b-c86f-470e-8d82-3e1071884cbe",
   "metadata": {},
   "outputs": [],
   "source": [
    "name=input(\"enter your name:\")\n",
    "age=int(input(\"enter your age:\"))\n",
    "\n",
    "if age>=18:\n",
    "        print(name)\n",
    "        print(\"you are elegible\")\n",
    "else:\n",
    "        print(name)\n",
    "        print(\"you are not elegible\")\n",
    "\n"
   ]
  },
  {
   "cell_type": "code",
   "execution_count": 6,
   "id": "a43ad837-d884-41cd-8bc7-7dbfe80853ba",
   "metadata": {},
   "outputs": [
    {
     "name": "stdin",
     "output_type": "stream",
     "text": [
      "enter your name: sonu\n",
      "enter your age: 50\n"
     ]
    },
    {
     "name": "stdout",
     "output_type": "stream",
     "text": [
      "sonu\n",
      "you are elegible to donate blood\n"
     ]
    }
   ],
   "source": [
    "name=input(\"enter your name:\")\n",
    "age=int(input(\"enter your age:\"))\n",
    "\n",
    "if age>=50:\n",
    "        print(name)\n",
    "        print(\"you are elegible to donate blood\")\n",
    "else:\n",
    "        print(name)\n",
    "        print(\"you are not elegible to donate blood\")\n"
   ]
  },
  {
   "cell_type": "markdown",
   "id": "28411ac5-7e7b-4211-8dab-009480ac102e",
   "metadata": {},
   "source": [
    "a= int(input())\n",
    "b= int(input())\n",
    "\n",
    "if a>b:\n",
    "    print(\"a is largest\")\n",
    "else:\n",
    "    print(\"a is smallest\")\n",
    "    "
   ]
  },
  {
   "cell_type": "code",
   "execution_count": 4,
   "id": "d0d9ac1f-ee5e-4956-b8d4-96a025828e76",
   "metadata": {},
   "outputs": [
    {
     "name": "stdin",
     "output_type": "stream",
     "text": [
      " 10\n",
      " 8\n",
      " 4\n"
     ]
    },
    {
     "name": "stdout",
     "output_type": "stream",
     "text": [
      "a is largest\n"
     ]
    }
   ],
   "source": [
    "a =int(input())\n",
    "b =int(input())\n",
    "c =int(input())\n",
    "\n",
    "if a>b:\n",
    "    if a>c:\n",
    "        print(\"a is largest\")\n",
    "    else:\n",
    "        print(\"c is largest\")\n",
    "else:\n",
    "    if b>c:\n",
    "        print(\"b is largest\")\n",
    "    else:\n",
    "        print(\"c is largest\")\n",
    "    \n",
    "\n",
    "\n",
    "\n",
    "    "
   ]
  },
  {
   "cell_type": "code",
   "execution_count": 19,
   "id": "7c6b20d1-ae5b-4817-83b8-efaba2b9d2f4",
   "metadata": {},
   "outputs": [
    {
     "ename": "SyntaxError",
     "evalue": "invalid syntax (2796781347.py, line 16)",
     "output_type": "error",
     "traceback": [
      "\u001b[1;36m  Cell \u001b[1;32mIn[19], line 16\u001b[1;36m\u001b[0m\n\u001b[1;33m    else:\u001b[0m\n\u001b[1;37m    ^\u001b[0m\n\u001b[1;31mSyntaxError\u001b[0m\u001b[1;31m:\u001b[0m invalid syntax\n"
     ]
    }
   ],
   "source": [
    "a =int(input())\n",
    "b =int(input())\n",
    "c =int(input())\n",
    "d =int(input())\n",
    "\n",
    "if a>b:\n",
    "    if a>c:\n",
    "        print(\"a is largest\")\n",
    "    else:\n",
    "        print(\"c is largest\")\n",
    "else:\n",
    "    if b>c:\n",
    "        print(\"b is largest\")\n",
    "    else:\n",
    "        print(\"c is largest\")\n",
    "else:\n",
    "    if d>c:\n",
    "        print(\"c is largest\")\n",
    "    else:\n",
    "        print(\"d is largest\")\n",
    "    "
   ]
  },
  {
   "cell_type": "code",
   "execution_count": 4,
   "id": "c19a6bef-fc54-4706-8687-7b331ce2d757",
   "metadata": {},
   "outputs": [
    {
     "name": "stdin",
     "output_type": "stream",
     "text": [
      "enter your marks: 40\n"
     ]
    },
    {
     "name": "stdout",
     "output_type": "stream",
     "text": [
      "Grade =D\n"
     ]
    }
   ],
   "source": [
    "marks=int(input(\"enter your marks:\"))\n",
    "\n",
    "if marks>=90 and marks<=100:\n",
    "    print(\"Grade =A+\")\n",
    "else:\n",
    "    if marks>=80 and marks<90:\n",
    "        print(\"Grade =A\")\n",
    "    else:\n",
    "        if marks>=70 and marks<80:\n",
    "            print(\"Grade =B+\")\n",
    "        else:\n",
    "            if marks>=60 and marks<70:\n",
    "                print(\"Grade =B\")\n",
    "            else:\n",
    "                if marks>=50 and marks<60:\n",
    "                    print(\"Grade =C\")\n",
    "                else:\n",
    "                    if marks>=40 and marks<50:\n",
    "                        print(\"Grade =D\")\n",
    "                    else:\n",
    "                        if marks>=30 and marks<40:\n",
    "                            print(\"Grade =E\")\n",
    "                        else:\n",
    "                            if marks>=0 and marks<30:\n",
    "                                print(\"Grade =F\");\n",
    "                            else:\n",
    "                                print(\"Invalid marks\")\n",
    "                        \n",
    "                              \n",
    "                              \n",
    "                    \n",
    "                \n",
    "                \n",
    "                \n",
    "    \n",
    "                \n",
    "                \n",
    "                         \n",
    "                          \n",
    "                          \n",
    "        \n",
    "    \n",
    "          \n",
    "    "
   ]
  },
  {
   "cell_type": "code",
   "execution_count": 5,
   "id": "bc7e1f23-04ea-4a6a-bf6c-4a15dafe77b1",
   "metadata": {},
   "outputs": [
    {
     "name": "stdin",
     "output_type": "stream",
     "text": [
      "enter the day number:  1\n"
     ]
    },
    {
     "name": "stdout",
     "output_type": "stream",
     "text": [
      "Sunday\n"
     ]
    }
   ],
   "source": [
    "Day = int(input(\"enter the day number: \"))\n",
    "\n",
    "match Day:\n",
    "    case 1: print(\"Sunday\")\n",
    "    case 2: print(\"Monday\")\n",
    "    case 3: print(\"Tuesday\")\n",
    "    case 4: print(\"Wednesday\")\n",
    "    case 5: print(\"Thursday\")\n",
    "    case 6: print(\"Friday\")\n",
    "    case 7: print(\"saturday\")\n",
    "    case _: print(\"invalid number\")\n",
    "            \n",
    "            \n",
    "\n"
   ]
  },
  {
   "cell_type": "code",
   "execution_count": 10,
   "id": "2608e38e-41ac-4d65-ab7b-5ad36f219194",
   "metadata": {},
   "outputs": [
    {
     "name": "stdin",
     "output_type": "stream",
     "text": [
      "enter the day number:  10\n"
     ]
    },
    {
     "name": "stdout",
     "output_type": "stream",
     "text": [
      "ten\n"
     ]
    }
   ],
   "source": [
    "Day = int(input(\"enter the day number: \"))\n",
    "\n",
    "match Day:\n",
    "    case 1: print(\"Sunday\")\n",
    "    case 2: print(\"Monday\")\n",
    "    case 3: print(\"Tuesday\")\n",
    "    case 4: print(\"Wednesday\")\n",
    "    case 5: print(\"Thursday\")\n",
    "    case 6: print(\"Friday\")\n",
    "    case 7: print(\"saturday\")\n",
    "    case _ if Day == 10:\n",
    "            print(\"ten\")\n",
    "    case _ if Day == 0:\n",
    "            print(\"Zero\")\n",
    "    case _: print(\"invalid\")\n",
    "        \n",
    "        \n",
    "            \n",
    "            \n"
   ]
  },
  {
   "cell_type": "code",
   "execution_count": 5,
   "id": "2dcc6090-7a3a-4bfe-9160-b0fe1c882d8e",
   "metadata": {},
   "outputs": [
    {
     "name": "stdout",
     "output_type": "stream",
     "text": [
      "0\n",
      "1\n",
      "2\n",
      "3\n",
      "4\n",
      "5\n",
      "6\n",
      "7\n",
      "8\n",
      "9\n"
     ]
    }
   ],
   "source": [
    "x=0\n",
    "while x<10:\n",
    "    print(x)\n",
    "    x=x+1\n",
    "\n",
    "\n",
    "for y in range(0,10):\n",
    "    print(y)"
   ]
  },
  {
   "cell_type": "code",
   "execution_count": 8,
   "id": "6054aff1-4e5c-44a3-92bf-60225a5af00e",
   "metadata": {},
   "outputs": [
    {
     "name": "stdout",
     "output_type": "stream",
     "text": [
      "*\n",
      "**\n",
      "***\n",
      "****\n",
      "*****\n",
      "******\n",
      "*******\n",
      "********\n",
      "*********\n",
      "**********\n"
     ]
    }
   ],
   "source": [
    "\n",
    "                   \n",
    "\n",
    "\n",
    "\n",
    "for y in range(0,10):\n",
    "    for x in range(0,y+1):\n",
    "        print(\"*\",end=\"\")\n",
    "    print()\n",
    "\n",
    "\n"
   ]
  },
  {
   "cell_type": "code",
   "execution_count": 15,
   "id": "50f87c35-b553-4c8a-b180-42cf20950ad0",
   "metadata": {},
   "outputs": [
    {
     "name": "stdin",
     "output_type": "stream",
     "text": [
      "enter the length of series: 10\n"
     ]
    },
    {
     "name": "stdout",
     "output_type": "stream",
     "text": [
      "0 1\n",
      "1 2 3 5 8 13 21 34 "
     ]
    }
   ],
   "source": [
    "a=0\n",
    "b=1\n",
    "n=int(input(\"enter the length of series:\"))\n",
    "print(a,b)\n",
    "\n",
    "\n",
    "for x in range(0,n-2):\n",
    "    c=a+b\n",
    "    print(c,end=\" \")\n",
    "    a=b\n",
    "    b=c\n",
    "\n",
    "\n",
    "\n",
    "\n",
    "\n",
    "\n",
    "\n",
    "            \n",
    "\n",
    "            \n",
    "\n",
    "\n",
    "        \n",
    "\n",
    "\n",
    "        \n",
    "        "
   ]
  },
  {
   "cell_type": "code",
   "execution_count": 16,
   "id": "38c3d8ee-cf8d-49de-9084-d1eca12da06e",
   "metadata": {},
   "outputs": [
    {
     "name": "stdin",
     "output_type": "stream",
     "text": [
      " 4\n",
      " 6\n"
     ]
    },
    {
     "name": "stdout",
     "output_type": "stream",
     "text": [
      "10\n"
     ]
    }
   ],
   "source": [
    "def abcd(a,b):\n",
    "    c=a+b\n",
    "    return c\n",
    "\n",
    "\n",
    "A=int(input())\n",
    "B=int(input())\n",
    "\n",
    "print(abcd(A,B))"
   ]
  },
  {
   "cell_type": "code",
   "execution_count": 4,
   "id": "b0a2425a-365e-4de1-a24e-575a194f8860",
   "metadata": {},
   "outputs": [
    {
     "name": "stdin",
     "output_type": "stream",
     "text": [
      " 2\n",
      " 4\n"
     ]
    },
    {
     "name": "stdout",
     "output_type": "stream",
     "text": [
      "6\n",
      "9\n"
     ]
    }
   ],
   "source": [
    "def abcd(a,b=7):\n",
    "    c=a+b\n",
    "    print(c)\n",
    "    return \n",
    "\n",
    "\n",
    "A=int(input())\n",
    "B=int(input())\n",
    "\n",
    "#print(abcd(A,B))\n",
    "abcd(A,B)\n",
    "abcd(A)"
   ]
  },
  {
   "cell_type": "code",
   "execution_count": null,
   "id": "c6e2f543-afec-4cb8-8d37-5aee611c9660",
   "metadata": {},
   "outputs": [],
   "source": [
    "def add(x,y):\n",
    "    return x+y\n",
    "def substract(x,y):\n",
    "    return x-y\n",
    "def multiply(x,y):\n",
    "    return x*y\n",
    "def divide(x,y):\n",
    "    return x/y\n",
    "def moduls(x,y):\n",
    "    return x%y\n",
    "\n",
    "while true:\n",
    "    print(\"addition\")\n",
    "    print(\"substraction\")\n",
    "    print(\"multiplication\")\n",
    "    print(\"division\")\n",
    "    print(\"moduls\")\n",
    "    \n",
    "    \n",
    "    "
   ]
  },
  {
   "cell_type": "code",
   "execution_count": 3,
   "id": "9bf35438-4938-4f11-b738-5ff30877da47",
   "metadata": {},
   "outputs": [
    {
     "name": "stdout",
     "output_type": "stream",
     "text": [
      "\n",
      "Choose operation:\n",
      "1. Addition\n",
      "2. Subtraction\n",
      "3. Multiplication\n",
      "4. Division\n",
      "5. Modulus\n",
      "6. Exit\n"
     ]
    },
    {
     "name": "stdin",
     "output_type": "stream",
     "text": [
      "Enter choice (1/2/3/4/5/6):  2\n",
      "Enter first number:  4\n",
      "Enter second number:  2\n"
     ]
    },
    {
     "name": "stdout",
     "output_type": "stream",
     "text": [
      "Result: 2.0\n",
      "\n",
      "Choose operation:\n",
      "1. Addition\n",
      "2. Subtraction\n",
      "3. Multiplication\n",
      "4. Division\n",
      "5. Modulus\n",
      "6. Exit\n"
     ]
    },
    {
     "name": "stdin",
     "output_type": "stream",
     "text": [
      "Enter choice (1/2/3/4/5/6):  1\n",
      "Enter first number:  2\n",
      "Enter second number:  3\n"
     ]
    },
    {
     "name": "stdout",
     "output_type": "stream",
     "text": [
      "Result: 5.0\n",
      "\n",
      "Choose operation:\n",
      "1. Addition\n",
      "2. Subtraction\n",
      "3. Multiplication\n",
      "4. Division\n",
      "5. Modulus\n",
      "6. Exit\n"
     ]
    },
    {
     "name": "stdin",
     "output_type": "stream",
     "text": [
      "Enter choice (1/2/3/4/5/6):  3\n",
      "Enter first number:  4\n",
      "Enter second number:  5\n"
     ]
    },
    {
     "name": "stdout",
     "output_type": "stream",
     "text": [
      "Result: 20.0\n",
      "\n",
      "Choose operation:\n",
      "1. Addition\n",
      "2. Subtraction\n",
      "3. Multiplication\n",
      "4. Division\n",
      "5. Modulus\n",
      "6. Exit\n"
     ]
    },
    {
     "name": "stdin",
     "output_type": "stream",
     "text": [
      "Enter choice (1/2/3/4/5/6):  4\n",
      "Enter first number:  3\n",
      "Enter second number:  2\n"
     ]
    },
    {
     "name": "stdout",
     "output_type": "stream",
     "text": [
      "Result: 1.5\n",
      "\n",
      "Choose operation:\n",
      "1. Addition\n",
      "2. Subtraction\n",
      "3. Multiplication\n",
      "4. Division\n",
      "5. Modulus\n",
      "6. Exit\n"
     ]
    },
    {
     "name": "stdin",
     "output_type": "stream",
     "text": [
      "Enter choice (1/2/3/4/5/6):  5\n",
      "Enter first number:  10\n",
      "Enter second number:  5\n"
     ]
    },
    {
     "name": "stdout",
     "output_type": "stream",
     "text": [
      "Result: 0.0\n",
      "\n",
      "Choose operation:\n",
      "1. Addition\n",
      "2. Subtraction\n",
      "3. Multiplication\n",
      "4. Division\n",
      "5. Modulus\n",
      "6. Exit\n"
     ]
    },
    {
     "name": "stdin",
     "output_type": "stream",
     "text": [
      "Enter choice (1/2/3/4/5/6):  6\n"
     ]
    },
    {
     "name": "stdout",
     "output_type": "stream",
     "text": [
      "Exiting program.\n"
     ]
    }
   ],
   "source": [
    "def add(x, y):\n",
    "    return x + y\n",
    "\n",
    "def subtract(x, y):\n",
    "    return x - y\n",
    "\n",
    "def multiply(x, y):\n",
    "    return x * y\n",
    "\n",
    "def divide(x, y):\n",
    "    if y == 0:\n",
    "        return \"Cannot divide by zero!\"\n",
    "    else:\n",
    "        return x / y\n",
    "\n",
    "def modulus(x, y):\n",
    "    if y == 0:\n",
    "        return \"Cannot find modulus with zero!\"\n",
    "    else:\n",
    "        return x % y\n",
    "\n",
    "while True:\n",
    "    print(\"\\nChoose operation:\")\n",
    "    print(\"1. Addition\")\n",
    "    print(\"2. Subtraction\")\n",
    "    print(\"3. Multiplication\")\n",
    "    print(\"4. Division\")\n",
    "    print(\"5. Modulus\")\n",
    "    print(\"6. Exit\")\n",
    "\n",
    "    choice = input(\"Enter choice (1/2/3/4/5/6): \")\n",
    "\n",
    "    if choice == '6':\n",
    "        print(\"Exiting program.\")\n",
    "        break\n",
    "\n",
    "    num1 = float(input(\"Enter first number: \"))\n",
    "    num2 = float(input(\"Enter second number: \"))\n",
    "\n",
    "    if choice == '1':\n",
    "        print(\"Result:\", add(num1, num2))\n",
    "    elif choice == '2':\n",
    "        print(\"Result:\", subtract(num1, num2))\n",
    "    elif choice == '3':\n",
    "        print(\"Result:\", multiply(num1, num2))\n",
    "    elif choice == '4':\n",
    "        print(\"Result:\", divide(num1, num2))\n",
    "    elif choice == '5':\n",
    "        print(\"Result:\", modulus(num1, num2))\n",
    "    else:\n",
    "        print(\"Invalid input! Please enter a valid number.\")\n"
   ]
  },
  {
   "cell_type": "code",
   "execution_count": 8,
   "id": "170c1ab5-5086-4b00-8658-3e20ef89496f",
   "metadata": {},
   "outputs": [
    {
     "ename": "SyntaxError",
     "evalue": "invalid non-printable character U+202F (3831025917.py, line 2)",
     "output_type": "error",
     "traceback": [
      "\u001b[1;36m  Cell \u001b[1;32mIn[8], line 2\u001b[1;36m\u001b[0m\n\u001b[1;33m    if(string == :-1]):\u001b[0m\n\u001b[1;37m    ^\u001b[0m\n\u001b[1;31mSyntaxError\u001b[0m\u001b[1;31m:\u001b[0m invalid non-printable character U+202F\n"
     ]
    }
   ],
   "source": [
    "def ispalindrome(string): \n",
    "    if(string == :-1]):\n",
    "        return \"The string is a palindrome.\" \n",
    "    else: \n",
    "        return \"The string is not a palindrome.\" \n",
    " \n",
    " \n",
    "string = input(\"Enter string: \") \n",
    " \n",
    "print(ispalindrome(string))"
   ]
  },
  {
   "cell_type": "code",
   "execution_count": 1,
   "id": "dfa9fd10-b9be-4b5f-869b-a7dfaf047f61",
   "metadata": {},
   "outputs": [
    {
     "name": "stdin",
     "output_type": "stream",
     "text": [
      "Enter the integer number:  4\n"
     ]
    },
    {
     "name": "stdout",
     "output_type": "stream",
     "text": [
      "The reverse number is : 4\n"
     ]
    }
   ],
   "source": [
    "number = int(input(\"Enter the integer number: \"))  \n",
    "  \n",
    "revs_number = 0  \n",
    "  \n",
    "while (number > 0):  \n",
    "    remainder = number % 10  \n",
    "    revs_number = (revs_number * 10) + remainder  \n",
    "    number = number // 10  \n",
    "  \n",
    "print(\"The reverse number is :\",revs_number)"
   ]
  },
  {
   "cell_type": "markdown",
   "id": "d0da1735-dbd3-4e67-bf5e-d3dedcca2fa4",
   "metadata": {},
   "source": [
    "num = 7\n",
    "\n",
    "# To take input from the user\n",
    "#num = int(input(\"Enter a number: \"))\n",
    "\n",
    "factorial = 1\n",
    "\n",
    "# check if the number is negative, positive or zero\n",
    "if num < 0:\n",
    "   print(\"Sorry, factorial does not exist for negative numbers\")\n",
    "elif num == 0:\n",
    "   print(\"The factorial of 0 is 1\")\n",
    "else:\n",
    "   for i in range(1,num + 1):\n",
    "       factorial = factorial*i\n",
    "   print(\"The factorial of\",num,\"is\",factorial)"
   ]
  },
  {
   "cell_type": "code",
   "execution_count": 10,
   "id": "7906b07b-d343-4c1f-ab32-ba19cf5ea2dd",
   "metadata": {},
   "outputs": [
    {
     "name": "stdout",
     "output_type": "stream",
     "text": [
      "1\n",
      "<class 'int'>\n",
      "2\n",
      "<class 'int'>\n",
      "3\n",
      "<class 'int'>\n",
      "4.7\n",
      "<class 'int'>\n",
      "s\n",
      "<class 'int'>\n"
     ]
    }
   ],
   "source": [
    "a=[1,2,3,4.7,\"s\"]\n",
    "for x in range(0,5):\n",
    "    print(a[x])\n",
    "    print(type(5))"
   ]
  },
  {
   "cell_type": "markdown",
   "id": "fe152c08-ac8c-41d3-9548-c389780b14c6",
   "metadata": {},
   "source": []
  },
  {
   "cell_type": "code",
   "execution_count": null,
   "id": "2bb9a6a7-efd6-4c51-b419-fda766b6b2f2",
   "metadata": {},
   "outputs": [],
   "source": [
    "pop to pull out element of the list\n",
    "sort use to sort the list\n",
    "index return first index of value\n",
    "value:_t@list,\n",
    "(method) def insert(\n",
    "    self:self@list[_T@list],\n",
    "(method) sefsort(\n",
    "    self: list[supportsRichComparisonT@sort],"
   ]
  },
  {
   "cell_type": "code",
   "execution_count": 27,
   "id": "e3d0a1e0-54e5-4478-b31b-41f7de92f717",
   "metadata": {},
   "outputs": [
    {
     "name": "stdout",
     "output_type": "stream",
     "text": [
      "[1, 2, 3, 4, 5]\n",
      "[1, 2, 3, 4, 5]\n",
      "4\n",
      "[1, 2, 3, 5]\n",
      "[1, 2, 3, 5, 10, 7, 3]\n",
      "2\n",
      "2\n",
      "1\n",
      "[1, 2, 3, 5, 9, 10, 7, 3]\n",
      "[1, 2, 5, 9, 10, 7, 3]\n",
      "[1, 2, 3, 5, 7, 9, 10]\n",
      "[10, 9, 7, 5, 3, 2, 1]\n",
      "7\n",
      "[10, 9, 7, 5, 3, 2, 1, 1, 2, 3, 4, 5]\n",
      "[10, 9, 7, 5, 3, 2, 1, 1, 2, 3, 4, 5, 1, 2, 3, 4, 5]\n"
     ]
    }
   ],
   "source": [
    "a=[1,2,3,4,5,]\n",
    "b=a.copy()\n",
    "print(b)\n",
    "\n",
    "a=[1,2,3,4,5]\n",
    "b=a.copy()\n",
    "print(b)\n",
    "\n",
    "c=b.pop(3)\n",
    "print(c)\n",
    "\n",
    "print(b)\n",
    "b.append(10)\n",
    "b.append(7)\n",
    "b.append(3)\n",
    "print(b)\n",
    "\n",
    "print(b.index(3))\n",
    "\n",
    "print(b.count(3))\n",
    "print(b.count(10))\n",
    "             \n",
    "b.insert(4,9)\n",
    "print(b)\n",
    "\n",
    "b.remove(3)\n",
    "print(b)\n",
    "\n",
    "b.sort()\n",
    "print(b)\n",
    "\n",
    "b.sort(reverse=True)\n",
    "print(b)\n",
    "\n",
    "\n",
    "print(len(b))\n",
    "\n",
    "b.extend(a)\n",
    "print(b)\n",
    "print(b+a)\n",
    "\n"
   ]
  },
  {
   "cell_type": "code",
   "execution_count": 28,
   "id": "9641451c-a098-4940-94e3-27e17d48ca2a",
   "metadata": {},
   "outputs": [
    {
     "name": "stdout",
     "output_type": "stream",
     "text": [
      "10\n",
      "9\n",
      "7\n",
      "3\n",
      "2\n",
      "1\n",
      "1\n",
      "2\n",
      "3\n",
      "4\n",
      "1\n",
      "2\n",
      "3\n",
      "4\n"
     ]
    }
   ],
   "source": [
    "a=[10,9,7,3,2,1,1,2,3,4,1,2,3,4]\n",
    "for x in a:\n",
    "    print(x)"
   ]
  },
  {
   "cell_type": "code",
   "execution_count": 31,
   "id": "d1637033-7ec2-4003-994a-be6f7042624a",
   "metadata": {},
   "outputs": [
    {
     "name": "stdin",
     "output_type": "stream",
     "text": [
      "enter the size of list: 4\n",
      " 1\n",
      " 3\n",
      " 4\n",
      " 5\n"
     ]
    },
    {
     "name": "stdout",
     "output_type": "stream",
     "text": [
      "['1', '3', '4', '5']\n"
     ]
    }
   ],
   "source": [
    "n=int(input(\"enter the size of list:\"))\n",
    "a=[]\n",
    "for x in range (0,n):\n",
    "    x=input()\n",
    "    a.append(x)\n",
    "print(a)\n"
   ]
  },
  {
   "cell_type": "code",
   "execution_count": null,
   "id": "9b1fc327-6dc9-4e62-a1f7-40cc3864a293",
   "metadata": {},
   "outputs": [],
   "source": []
  },
  {
   "cell_type": "code",
   "execution_count": 36,
   "id": "d16fa928-42c9-4124-b0bc-4b6269321a51",
   "metadata": {},
   "outputs": [
    {
     "name": "stdin",
     "output_type": "stream",
     "text": [
      "enter the elements of the list:  1 2 3 4 5\n"
     ]
    },
    {
     "name": "stdout",
     "output_type": "stream",
     "text": [
      "[1, 2, 3, 4, 5]\n"
     ]
    }
   ],
   "source": [
    "L = [int(item) for item in (input(\"enter the elements of the list: \")).split()]\n",
    "print(L)"
   ]
  },
  {
   "cell_type": "code",
   "execution_count": 37,
   "id": "270258e2-28fb-4cb7-9288-8700f57f1291",
   "metadata": {},
   "outputs": [
    {
     "name": "stdout",
     "output_type": "stream",
     "text": [
      "[1, 2, 3, 4, 5]\n"
     ]
    }
   ],
   "source": [
    "a=list([1,2,3,4,5])\n",
    "print(a)"
   ]
  },
  {
   "cell_type": "code",
   "execution_count": 39,
   "id": "fc165753-44d2-432f-b67d-fb9a37d43723",
   "metadata": {},
   "outputs": [
    {
     "name": "stdout",
     "output_type": "stream",
     "text": [
      "(1, 2, 3, 4, 5.5, \"mon's\")\n",
      "[1, 2, 3, 4, 5.5, \"mon's\"]\n",
      "(1, 2, 3, 4, 5.5, \"mon's\")\n"
     ]
    }
   ],
   "source": [
    "#Tuples\n",
    "a=(1,2,3,4,5.5,\"mon's\")\n",
    "print(a)\n",
    "a[5]\n",
    "\n",
    "b=list(a)\n",
    "print(b)\n",
    "b[5]=\"mon's\"\n",
    "\n",
    "a=tuple(b)\n",
    "print(a)\n"
   ]
  },
  {
   "cell_type": "code",
   "execution_count": 40,
   "id": "117f7bae-f446-4eb1-8aea-0f8846bb1529",
   "metadata": {},
   "outputs": [
    {
     "name": "stdout",
     "output_type": "stream",
     "text": [
      "[5]\n",
      "[5, 4]\n",
      "[5, 4, 3]\n",
      "[5, 4, 3, 2]\n",
      "[5, 4, 3, 2, 1]\n"
     ]
    }
   ],
   "source": [
    "original_list = [1,2,3,4,5]\n",
    "reversed_list = []\n",
    "for item in reversed(original_list):\n",
    "    reversed_list.append(item)\n",
    "    print(reversed_list)\n"
   ]
  },
  {
   "cell_type": "code",
   "execution_count": 42,
   "id": "7fbf76c2-7a0f-4e3f-a31b-717d4daddf09",
   "metadata": {},
   "outputs": [
    {
     "name": "stdout",
     "output_type": "stream",
     "text": [
      "9\n",
      "8\n",
      "7\n",
      "6\n",
      "5\n",
      "4\n",
      "3\n",
      "2\n",
      "1\n"
     ]
    }
   ],
   "source": [
    "a=(1,2,3,4,5,6,7,8,9)\n",
    "for x in range(-1,-1*(len(a)+1),-1):\n",
    "    print(a[x])"
   ]
  },
  {
   "cell_type": "code",
   "execution_count": 1,
   "id": "d7d12864-6a37-436c-a6f1-ca04cc83b122",
   "metadata": {},
   "outputs": [
    {
     "ename": "SyntaxError",
     "evalue": "invalid syntax (3725554521.py, line 5)",
     "output_type": "error",
     "traceback": [
      "\u001b[1;36m  Cell \u001b[1;32mIn[1], line 5\u001b[1;36m\u001b[0m\n\u001b[1;33m    key values pair\u001b[0m\n\u001b[1;37m        ^\u001b[0m\n\u001b[1;31mSyntaxError\u001b[0m\u001b[1;31m:\u001b[0m invalid syntax\n"
     ]
    }
   ],
   "source": [
    "Dictionary\n",
    "\n",
    "key and values\n",
    "\n",
    "key values pair\n"
   ]
  },
  {
   "cell_type": "code",
   "execution_count": 2,
   "id": "fdfaf7ad-a24e-4f5f-96aa-766dee3aad04",
   "metadata": {},
   "outputs": [
    {
     "name": "stdout",
     "output_type": "stream",
     "text": [
      "{1: 'Monu', 2: 'moni', 3: \"Mon's\"}\n"
     ]
    }
   ],
   "source": [
    "D={1:\"Monu\",2:\"moni\",3:\"Mon's\"}\n",
    "print(D)"
   ]
  },
  {
   "cell_type": "code",
   "execution_count": 4,
   "id": "74c31dbc-77b3-493a-b46e-f85e542ae6b9",
   "metadata": {},
   "outputs": [
    {
     "name": "stdout",
     "output_type": "stream",
     "text": [
      "{1: 'Monu', 2: 'moni', 3: \"Mon's\"}\n",
      "moni\n"
     ]
    }
   ],
   "source": [
    "#we can use key as a subscript\n",
    "D={1:\"Monu\",2:\"moni\",3:\"Mon's\"}\n",
    "print(D)\n",
    "\n",
    "print(D[2])"
   ]
  },
  {
   "cell_type": "code",
   "execution_count": 8,
   "id": "1d28b874-b350-447a-a6d6-7e58ce4ca597",
   "metadata": {},
   "outputs": [
    {
     "name": "stdout",
     "output_type": "stream",
     "text": [
      "{1: 'Monu', 2: 'moni', 3: \"Mon's\"}\n",
      "moni\n",
      "dict_keys([1, 2, 3])\n",
      "dict_values(['Monu', 'moni', \"Mon's\"])\n",
      "dict_items([(1, 'Monu'), (2, 'moni'), (3, \"Mon's\")])\n",
      "None\n",
      "{1: 'Monu', 2: 'moni', 3: \"Mon's\", 4: 'BITM'}\n"
     ]
    }
   ],
   "source": [
    "D={1:\"Monu\",2:\"moni\",3:\"Mon's\"}\n",
    "print(D)\n",
    "\n",
    "print(D[2])\n",
    "print(D.keys())\n",
    "print(D.values())\n",
    "print(D.items())\n",
    "print(D.get(4))\n",
    "D[4]=\"BITM\"\n",
    "print(D)\n"
   ]
  },
  {
   "cell_type": "code",
   "execution_count": null,
   "id": "52209359-79e6-42ba-81a3-db915ec1d9f7",
   "metadata": {},
   "outputs": [],
   "source": [
    "#write a program to take key and value as a input from user and add it into the dictionary if key is not present in the dictionary \n",
    "##otherwise print key already exist and print the value of key and the print the dictionary\n",
    "a=int(input(\"enter the key: \"))\n",
    "b=int(input(\"enter the value: \"))\n",
    "D={1:\"sneha\",2:\"tabbuu\",3:\"mouni\"}\n",
    "print(D.keys())\n",
    "print(D.values())\n",
    "D[4]=\"mom\"\n",
    "print(D)\n",
    "print(D.get(4))\n",
    "\n",
    "\n"
   ]
  },
  {
   "cell_type": "code",
   "execution_count": 10,
   "id": "ab5d9d5f-0397-45e9-ba5f-00f2b491d756",
   "metadata": {},
   "outputs": [
    {
     "name": "stdin",
     "output_type": "stream",
     "text": [
      " 5\n",
      " 7\n"
     ]
    },
    {
     "name": "stdout",
     "output_type": "stream",
     "text": [
      "0.7142857142857143\n",
      "division sucessfull\n",
      "0.7142857142857143\n",
      "error handelled\n",
      "we have recieved the result as :  0.7142857142857143\n"
     ]
    }
   ],
   "source": [
    "A=int(input())\n",
    "B=int(input())\n",
    "C=A/B\n",
    "try:\n",
    "    print(C)\n",
    "except:\n",
    "     print(\"we can't devide:\")\n",
    "else:\n",
    "     print(\"division sucessfull\")\n",
    "     print(C)\n",
    "finally:\n",
    "    print(\"error handelled\")\n",
    "    \n",
    "print(\"we have recieved the result as : \",C)\n"
   ]
  },
  {
   "cell_type": "markdown",
   "id": "29a63937-1ea6-474e-aaf5-c777fc36df33",
   "metadata": {},
   "source": [
    "# create list of 10 elements ask the user \n",
    "a=[0,1,2,3,4,5,6,7,8,9]\n",
    "b=int(input(\"enter the index:\"))\n",
    "\n",
    "try:\n",
    "    print(a)\n",
    "except:\n",
    "    print(\"the index value is not available\")\n",
    "          \n",
    "\n"
   ]
  },
  {
   "cell_type": "code",
   "execution_count": null,
   "id": "0100353f-bc40-4309-8f25-545832c85b2c",
   "metadata": {},
   "outputs": [],
   "source": []
  },
  {
   "cell_type": "code",
   "execution_count": 1,
   "id": "cb91d016-391f-419a-8511-f5014dca5c2d",
   "metadata": {},
   "outputs": [
    {
     "name": "stdin",
     "output_type": "stream",
     "text": [
      "enter the index: 10\n"
     ]
    },
    {
     "name": "stdout",
     "output_type": "stream",
     "text": [
      "the index value is not available\n"
     ]
    }
   ],
   "source": [
    "\n",
    "a=[0,1,2,3,4,5,6,7,8,9]\n",
    "b=int(input(\"enter the index:\"))\n",
    "\n",
    "try: \n",
    "    print(a[b])\n",
    "except: \n",
    "    print(\"the index value is not available\")\n",
    "\n",
    "\n",
    "\n",
    "\n",
    "\n",
    "\n",
    "\n"
   ]
  },
  {
   "cell_type": "code",
   "execution_count": 1,
   "id": "af6db103-44a6-47ec-8ad5-11cb7aa98b49",
   "metadata": {},
   "outputs": [
    {
     "name": "stdin",
     "output_type": "stream",
     "text": [
      " 676\n",
      " 86\n"
     ]
    },
    {
     "name": "stdout",
     "output_type": "stream",
     "text": [
      "Some unknown error found\n",
      "Code execution done\n"
     ]
    }
   ],
   "source": [
    "try:\n",
    "    a=input()\n",
    "    b=input()\n",
    "    c=int(a)/int(b)\n",
    "    x=\"hello\"/3\n",
    "except ValueError:\n",
    "    print(\"Value unable to convert\")\n",
    "except ZeroDivisionError:\n",
    "    print(\"Can't divide by zero\")\n",
    "except:\n",
    "    print(\"Some unknown error found\")\n",
    "else:\n",
    "    print(\"No error\")\n",
    "finally:\n",
    "    print(\"Code execution done\")\n",
    "    \n",
    "\n",
    "    \n"
   ]
  },
  {
   "cell_type": "code",
   "execution_count": null,
   "id": "4fa658cf-6b6a-4187-b763-798c91c20541",
   "metadata": {},
   "outputs": [],
   "source": [
    "write a pattern program sum of all the elements in the listan handle the case if it consist of non numeric value\n",
    "create a dict student name and grade\n",
    "write a program "
   ]
  },
  {
   "cell_type": "raw",
   "id": "596f4af0-2bf9-4080-ab43-de3f1408ebec",
   "metadata": {},
   "source": [
    "def sum_list_elements(lst):\n",
    "    total = 0\n",
    "    for item in lst:\n",
    "        if isinstance(item, (int, float)):\n",
    "            total += item\n",
    "        elif isinstance(item, str):\n",
    "            try:\n",
    "                total += float(item)\n",
    "            except ValueError:\n",
    "                print(f\"Ignoring non-numeric value: {item}\")\n",
    "        else:\n",
    "            print(f\"Ignoring non-numeric value: {item}\")\n",
    "    return total\n",
    "\n",
    "# Example usage:\n",
    "my_list = [1, 2, 3, '4', '5.5', 'abc', 6]\n",
    "print(\"Sum of list elements:\", sum_list_elements(my_list))\n"
   ]
  },
  {
   "cell_type": "markdown",
   "id": "4fe66ad8-3348-4a7b-8f8f-469b1936f749",
   "metadata": {},
   "source": []
  },
  {
   "cell_type": "code",
   "execution_count": null,
   "id": "f3afddcf-4dec-4132-8d8e-4f2163c9dc0c",
   "metadata": {},
   "outputs": [],
   "source": []
  },
  {
   "cell_type": "code",
   "execution_count": null,
   "id": "601d9ea4-f467-4966-937b-531908021d51",
   "metadata": {},
   "outputs": [],
   "source": []
  },
  {
   "cell_type": "code",
   "execution_count": null,
   "id": "c444798d-44ad-4609-9c2d-fd4c9ecf97dd",
   "metadata": {},
   "outputs": [],
   "source": []
  }
 ],
 "metadata": {
  "kernelspec": {
   "display_name": "Python 3 (ipykernel)",
   "language": "python",
   "name": "python3"
  },
  "language_info": {
   "codemirror_mode": {
    "name": "ipython",
    "version": 3
   },
   "file_extension": ".py",
   "mimetype": "text/x-python",
   "name": "python",
   "nbconvert_exporter": "python",
   "pygments_lexer": "ipython3",
   "version": "3.12.3"
  }
 },
 "nbformat": 4,
 "nbformat_minor": 5
}
