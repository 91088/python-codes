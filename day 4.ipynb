{
 "cells": [
  {
   "cell_type": "code",
   "execution_count": 2,
   "id": "5123d2bd-bce6-4696-a435-2a93f9893148",
   "metadata": {},
   "outputs": [
    {
     "name": "stdin",
     "output_type": "stream",
     "text": [
      " @\n"
     ]
    },
    {
     "name": "stdout",
     "output_type": "stream",
     "text": [
      "A is a special character\n"
     ]
    }
   ],
   "source": [
    "a=input()\n",
    "\n",
    "if a.isupper():\n",
    "    print(\"A is upper case character\")\n",
    "elif a.islower():\n",
    "    print(\"A is a lower case character\")\n",
    "elif a.isnumeric():\n",
    "    print(\"A is a number\")\n",
    "else:\n",
    "    print(\"A is a special character\")\n"
   ]
  },
  {
   "cell_type": "code",
   "execution_count": 13,
   "id": "95c537cd-e5ea-42a7-854d-08205531ea04",
   "metadata": {},
   "outputs": [
    {
     "name": "stdin",
     "output_type": "stream",
     "text": [
      " abcba\n"
     ]
    },
    {
     "name": "stdout",
     "output_type": "stream",
     "text": [
      "Palindrome\n"
     ]
    }
   ],
   "source": [
    "a=input()\n",
    "flag = 0\n",
    "for i in range (0,int(len(a)/2)):\n",
    "    if a[i] != a[(i+1)*-1]:\n",
    "        flag = 1\n",
    "        break\n",
    "        \n",
    "if flag:\n",
    "    print(\"Not palindrome\")\n",
    "else:\n",
    "    print(\"Palindrome\")\n",
    "        "
   ]
  },
  {
   "cell_type": "code",
   "execution_count": 43,
   "id": "260fc449-916f-4c16-a277-8d8660932d2c",
   "metadata": {},
   "outputs": [
    {
     "name": "stdin",
     "output_type": "stream",
     "text": [
      " 10\n"
     ]
    },
    {
     "name": "stdout",
     "output_type": "stream",
     "text": [
      "A is not a prime number\n"
     ]
    }
   ],
   "source": [
    "a=int(input())\n",
    "\n",
    "for i in range(2,int(a/2)):\n",
    "    if a%i==0:\n",
    "        print(\"A is not a prime number\")\n",
    "        break\n",
    "else:\n",
    "        print(\"A is prime number\")\n",
    "        \n",
    "\n"
   ]
  },
  {
   "cell_type": "markdown",
   "id": "6212b405-eb9e-4ac7-810b-fd4c930cdcea",
   "metadata": {},
   "source": [
    "file handling\n",
    "create\n",
    "read\n",
    "update\n",
    "delete\n",
    "\n"
   ]
  },
  {
   "cell_type": "code",
   "execution_count": 45,
   "id": "2327b679-6b09-423d-9e01-80e860d91fec",
   "metadata": {},
   "outputs": [
    {
     "ename": "IndentationError",
     "evalue": "expected an indented block after 'if' statement on line 2 (4031892029.py, line 3)",
     "output_type": "error",
     "traceback": [
      "\u001b[1;36m  Cell \u001b[1;32mIn[45], line 3\u001b[1;36m\u001b[0m\n\u001b[1;33m    filename = \"example.txt\"\u001b[0m\n\u001b[1;37m    ^\u001b[0m\n\u001b[1;31mIndentationError\u001b[0m\u001b[1;31m:\u001b[0m expected an indented block after 'if' statement on line 2\n"
     ]
    }
   ],
   "source": [
    "import os\n",
    "if __name__ == '__main__':\n",
    "     filename=\"example.txt\"\n",
    "     new_filename=\"new_example.txt\"\n",
    "\n",
    "create_file(filename)\n",
    "read_file(filename)\n",
    "append_file(filename,\"this is some additional text.\\n\")\n",
    "read_file(filename)\n",
    "rename_file(filename)\n",
    "read_file(filename)\n",
    "\n"
   ]
  },
  {
   "cell_type": "code",
   "execution_count": null,
   "id": "4acac199-664d-46d0-91cd-81ea2765ef6c",
   "metadata": {},
   "outputs": [],
   "source": [
    "import os\n",
    "\n",
    "\n",
    "with open(\"file1.txt\",'w')as f:\n",
    "    f.write(\"this is first text in file\")\n",
    "    f.write(\"this is second text in file\")\n",
    "    f.close()\n",
    "\n",
    "import os\n",
    "\n",
    "with open(\"file1.txt\",'a')as f:\n",
    "    f.write(\"this is second text in file\")\n",
    "    f.close()\n",
    "           \n",
    "import os\n",
    "\n",
    "os.remove(\"file1.txt\")\n",
    "\n",
    "\n",
    "import os\n",
    "\n",
    "with open(\"file1.txt\",'r') as f:\n",
    "    for a in f.read():\n",
    "        print(a)\n",
    "        print(\"111\")\n",
    "\n",
    "    f.close()\n",
    "        \n",
    "           \n"
   ]
  },
  {
   "cell_type": "code",
   "execution_count": 77,
   "id": "49b7b2dc-b151-45ae-a160-393a498f781a",
   "metadata": {},
   "outputs": [],
   "source": [
    "import os\n",
    "\n",
    "\n",
    "with open(\"file1.txt\",'w')as f:\n",
    "    f.write(\"this is first text in file.\\n\")\n",
    "    f.write(\"this is second text in file.\\n\")\n",
    "    f.close()\n"
   ]
  },
  {
   "cell_type": "code",
   "execution_count": 72,
   "id": "560bd9a0-fb18-4a34-ab9e-8d68eab034e8",
   "metadata": {},
   "outputs": [],
   "source": [
    "import os\n",
    "\n",
    "with open(\"file1.txt\",'a')as f:\n",
    "    f.write(\"this is second text in file\")\n",
    "    f.close()\n"
   ]
  },
  {
   "cell_type": "code",
   "execution_count": 69,
   "id": "68fa530a-ea07-43b4-b124-6fd60c551be8",
   "metadata": {},
   "outputs": [],
   "source": [
    "import os\n",
    "os.remove(\"file1.txt\")\n",
    "\n"
   ]
  },
  {
   "cell_type": "code",
   "execution_count": 84,
   "id": "3ea95cf4-f920-4667-b882-8ae89e7c6e14",
   "metadata": {},
   "outputs": [
    {
     "name": "stdout",
     "output_type": "stream",
     "text": [
      "this\n",
      "111\n",
      "is\n",
      "111\n",
      "first\n",
      "111\n",
      "text\n",
      "111\n",
      "in\n",
      "111\n",
      "file.\n",
      "111\n",
      "this\n",
      "111\n",
      "is\n",
      "111\n",
      "second\n",
      "111\n",
      "text\n",
      "111\n",
      "in\n",
      "111\n",
      "file.\n",
      "111\n"
     ]
    }
   ],
   "source": [
    "import os\n",
    "\n",
    "with open(\"file1.txt\",'r') as f:\n",
    "    for a in f.read().split():\n",
    "        print(a)\n",
    "        print(\"111\")\n",
    "        \n",
    "    f.close()\n"
   ]
  },
  {
   "cell_type": "code",
   "execution_count": 99,
   "id": "5dfd5939-8801-4bd4-8ecb-c144f1da5f72",
   "metadata": {},
   "outputs": [
    {
     "name": "stdin",
     "output_type": "stream",
     "text": [
      "enter the temperature in celsius 41\n"
     ]
    },
    {
     "name": "stdout",
     "output_type": "stream",
     "text": [
      "the temperature in fahrenhiet is: 105.8\n"
     ]
    }
   ],
   "source": [
    " \n",
    "     celsius=float(input(\"enter the temperature in celsius\"))\n",
    "     fahrenheit=(celsius*9/5)+32\n",
    "     print(\"the temperature in fahrenhiet is:\",fahrenheit)\n",
    "    \n",
    "     "
   ]
  },
  {
   "cell_type": "markdown",
   "id": "ee95ed48-769f-4c44-92e7-877cdbf85a9d",
   "metadata": {},
   "source": [
    "\n"
   ]
  },
  {
   "cell_type": "code",
   "execution_count": 2,
   "id": "46d1fbb0-9636-4da5-8f6c-1920480c6ccd",
   "metadata": {},
   "outputs": [
    {
     "name": "stdout",
     "output_type": "stream",
     "text": [
      "second largest element is: 9\n"
     ]
    }
   ],
   "source": [
    "list1=[11,9,6,7,3,4]\n",
    "list2=list(set(list1))\n",
    "list2.sort()\n",
    "print(\"second largest element is:\",list2[-2])"
   ]
  },
  {
   "cell_type": "code",
   "execution_count": 17,
   "id": "db2dfa80-2d3e-41bb-a295-f8a156694dc1",
   "metadata": {},
   "outputs": [
    {
     "name": "stdin",
     "output_type": "stream",
     "text": [
      "Enter string: hello\n"
     ]
    },
    {
     "name": "stdout",
     "output_type": "stream",
     "text": [
      "Number of vowels are:\n",
      "2\n"
     ]
    }
   ],
   "source": [
    "string=input(\"Enter string:\")\n",
    "vowels=0\n",
    "for i in string:\n",
    "      if(i=='a' or i=='e' or i=='i' or i=='o' or i=='u'):\n",
    "            vowels=vowels+1\n",
    "print(\"Number of vowels are:\")\n",
    "print(vowels)\n"
   ]
  },
  {
   "cell_type": "code",
   "execution_count": 44,
   "id": "3b37c8e6-13ea-4920-b754-4aafd1f47edf",
   "metadata": {},
   "outputs": [
    {
     "name": "stdout",
     "output_type": "stream",
     "text": [
      "s\n",
      "l\n",
      "e\n",
      "v\n",
      "o\n",
      "n\n",
      "original string is:novels\n",
      "reversed string is:slevon\n"
     ]
    }
   ],
   "source": [
    "string=\"novels\"\n",
    "for char in string[::-1]:\n",
    "    print(char)\n",
    "def reverse(string):\n",
    "    string=string[::-1]\n",
    "    return string\n",
    "s=\"novels\"\n",
    "print(\"original string is:\",end=\"\")\n",
    "print(s)\n",
    "\n",
    "print(\"reversed string is:\",end=\"\")\n",
    "print(reverse(s))\n",
    "\n",
    "          \n",
    "    "
   ]
  },
  {
   "cell_type": "code",
   "execution_count": 50,
   "id": "000b3379-bcc6-4a03-9704-91f3eb77c4b0",
   "metadata": {},
   "outputs": [
    {
     "name": "stdout",
     "output_type": "stream",
     "text": [
      "6 has occurred 5 times\n"
     ]
    }
   ],
   "source": [
    "def countX(lst, x):\n",
    "\n",
    "    count = 0\n",
    "\n",
    "    for ele in lst:\n",
    "\n",
    "        if (ele == x):\n",
    "\n",
    "            count = count + 1\n",
    "\n",
    "    return count\n",
    " \n",
    " \n",
    "# Driver Code\n",
    "\n",
    "lst = [6, 6, 8, 10, 6, 20, 10, 6, 6]\n",
    "\n",
    "x = 6\n",
    "\n",
    "print('{} has occurred {} times'.format(x,countX(lst, x)))\n",
    "\n",
    "\n"
   ]
  },
  {
   "cell_type": "code",
   "execution_count": null,
   "id": "5850ade5-cd5d-4064-a2c7-07fc434f9f39",
   "metadata": {},
   "outputs": [],
   "source": []
  }
 ],
 "metadata": {
  "kernelspec": {
   "display_name": "Python 3 (ipykernel)",
   "language": "python",
   "name": "python3"
  },
  "language_info": {
   "codemirror_mode": {
    "name": "ipython",
    "version": 3
   },
   "file_extension": ".py",
   "mimetype": "text/x-python",
   "name": "python",
   "nbconvert_exporter": "python",
   "pygments_lexer": "ipython3",
   "version": "3.12.3"
  }
 },
 "nbformat": 4,
 "nbformat_minor": 5
}
