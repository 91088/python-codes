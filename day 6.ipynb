{
 "cells": [
  {
   "cell_type": "code",
   "execution_count": 19,
   "id": "4237c8bf-9157-47fb-9521-30aea8897b85",
   "metadata": {},
   "outputs": [
    {
     "name": "stdout",
     "output_type": "stream",
     "text": [
      "car having: TOYOTA 5 140 IND123-34 4,08,000 RED 32.5CC\n",
      "truck having: 4 axle 14TON MH09CU7775 44LACK BLACK 958CC\n"
     ]
    }
   ],
   "source": [
    "class vehicle:\n",
    "    def __init__(self,p,pr,c,e):\n",
    "         self.plate=p\n",
    "         self.price=pr\n",
    "         self.colour=c\n",
    "         self.engine=e\n",
    "\n",
    "class car(vehicle):\n",
    "    def __init__(self,t,passenger,s,p,pr,c,e):\n",
    "         self.type=t\n",
    "         self.passenger=passenger\n",
    "         self.speed=s\n",
    "         super().__init__(p,pr,c,e)\n",
    "\n",
    "\n",
    "class truck(vehicle):\n",
    "    def __init__(self,ax,lc,p,pr,c,e):\n",
    "         self.axle=ax\n",
    "         self.load_capacity=lc\n",
    "         super().__init__(p,pr,c,e)\n",
    "        \n",
    "y=car(\"TOYOTA\",\"5\",\"140\",\"IND123-34\",\"4,08,000\",\"RED\",\"32.5CC\")\n",
    "z=truck(\"4 axle\",\"14TON\",\"MH09CU7775\",\"44LACK\",\"BLACK\",\"958CC\")\n",
    "\n",
    "\n",
    "print(\"car having:\",y.type,y.passenger,y.speed,y.plate,y.price,y.colour,y.engine)\n",
    "print(\"truck having:\",z.axle,z.load_capacity,z.plate,z.price,z.colour,z.engine)\n",
    "    "
   ]
  },
  {
   "cell_type": "code",
   "execution_count": 34,
   "id": "9a4d01e0-6d0f-4285-9044-b5f51b30c6ae",
   "metadata": {},
   "outputs": [
    {
     "name": "stdout",
     "output_type": "stream",
     "text": [
      "staff details: cs hospet 111 sonu 100000\n",
      "developer details: abcd innovation and design 35yrs 95 sneha 200000\n",
      "manager details: html xyz 85 tabbu 3000000\n"
     ]
    }
   ],
   "source": [
    "class employee:\n",
    "    def __init__(self,emp_id,emp_name,emp_salary):\n",
    "         self.emp_id=emp_id\n",
    "         self.emp_name=emp_name\n",
    "         self.emp_salary=emp_salary\n",
    "\n",
    "class staff(employee):\n",
    "    def __init__(self,wt,wa,emp_id,emp_name,emp_salary):\n",
    "         self.wt=wt\n",
    "         self.wa=wa\n",
    "         super().__init__(emp_id,emp_name,emp_salary)\n",
    "\n",
    "class developer(employee):\n",
    "    def __init__(self,module,tech,experience,emp_id,emp_name,emp_salary):\n",
    "        self.module=module\n",
    "        self.tech=tech\n",
    "        self.experience=experience\n",
    "        super().__init__(emp_id,emp_name,emp_salary)\n",
    "\n",
    "class manager(employee):\n",
    "    def __init__(self,project,client_name,emp_id,emp_name,emp_salary):\n",
    "        self.project=project\n",
    "        self.client_name=client_name\n",
    "        super().__init__(emp_id,emp_name,emp_salary)\n",
    "        \n",
    "\n",
    "a=staff(\"cs\",\"hospet\",111,\"sonu\",100000)\n",
    "b=developer(\"abcd\",\"innovation and design\",\"35yrs\",95,\"sneha\",200000)\n",
    "c=manager(\"html\",\"xyz\",85,\"tabbu\",3000000)\n",
    "\n",
    "\n",
    "print(\"staff details:\",a.wt,a.wa,a.emp_id,a.emp_name,a.emp_salary)\n",
    "print(\"developer details:\",b.module,b.tech,b.experience,b.emp_id,b.emp_name,b.emp_salary)\n",
    "print(\"manager details:\",c.project,c.client_name,c.emp_id,c.emp_name,c.emp_salary)\n",
    "        \n",
    "\n",
    "    "
   ]
  },
  {
   "cell_type": "code",
   "execution_count": 59,
   "id": "cc85d20e-9b80-4422-9fc2-f381fcebe18d",
   "metadata": {},
   "outputs": [
    {
     "name": "stdout",
     "output_type": "stream",
     "text": [
      "*\n",
      "**\n",
      "***\n",
      "****\n",
      "*****\n"
     ]
    }
   ],
   "source": [
    "for i in range(0,5):\n",
    "    for j in range(0,i+1):\n",
    "        print(\"*\",end=\"\")\n",
    "    print()\n",
    "#i\n"
   ]
  },
  {
   "cell_type": "code",
   "execution_count": 60,
   "id": "bf626b10-38b5-42cb-9aa2-5a70a95642f3",
   "metadata": {},
   "outputs": [
    {
     "name": "stdout",
     "output_type": "stream",
     "text": [
      "******\n",
      "******\n",
      "******\n"
     ]
    }
   ],
   "source": [
    "for i in range(0,i-1):\n",
    "    for j in range(0,6):\n",
    "        print(\"*\",end=\"\")\n",
    "    print()\n"
   ]
  },
  {
   "cell_type": "code",
   "execution_count": 62,
   "id": "ec825ff7-4fc6-4936-a579-2b31b75fa7a3",
   "metadata": {},
   "outputs": [
    {
     "name": "stdout",
     "output_type": "stream",
     "text": [
      "*****\n",
      "****\n",
      "***\n",
      "**\n",
      "*\n"
     ]
    }
   ],
   "source": [
    "for i in range(5,0,-1):\n",
    "    for j in range(0,i):\n",
    "        print(\"*\",end=\"\")\n",
    "    print()"
   ]
  },
  {
   "cell_type": "code",
   "execution_count": 123,
   "id": "5076fbd9-877d-45d8-9f61-80d10c93f1a5",
   "metadata": {},
   "outputs": [
    {
     "name": "stdout",
     "output_type": "stream",
     "text": [
      "* * * * * \n",
      "* * * * \n",
      "* * * \n",
      "* * \n",
      "* \n"
     ]
    }
   ],
   "source": [
    "for i in range(5,0,-1):\n",
    "    for j in range(0,i):\n",
    "        print(\"*\",end=\" \")\n",
    "    print()\n",
    "    \n",
    "  "
   ]
  },
  {
   "cell_type": "code",
   "execution_count": 82,
   "id": "7e860f28-0959-4208-8ec8-c14bbfb16bec",
   "metadata": {},
   "outputs": [
    {
     "name": "stdout",
     "output_type": "stream",
     "text": [
      "*****\n",
      "*****\n",
      "*****\n",
      "*****\n",
      "*****\n",
      "*****\n",
      "*****\n",
      "*****\n"
     ]
    }
   ],
   "source": [
    "for i in range(0,j-1):\n",
    "    for j in range(0,5):\n",
    "        print(\"*\",end=\"\")\n",
    "    print()\n"
   ]
  },
  {
   "cell_type": "code",
   "execution_count": 112,
   "id": "0cc1af37-65bb-448a-bf29-62b2d434a8a5",
   "metadata": {},
   "outputs": [
    {
     "name": "stdout",
     "output_type": "stream",
     "text": [
      "*****\n",
      "****\n",
      "***\n",
      "**\n",
      "*\n",
      "\n"
     ]
    }
   ],
   "source": [
    "row=5\n",
    "for i in range(row + 1,0,-1):\n",
    "    for j in range(0,i-1):\n",
    "      print(\"*\",end=\"\")\n",
    "    print()\n",
    "\n",
    "\n"
   ]
  },
  {
   "cell_type": "code",
   "execution_count": 131,
   "id": "9ea22ef0-0b5d-4957-b606-238422e5f131",
   "metadata": {},
   "outputs": [
    {
     "name": "stdin",
     "output_type": "stream",
     "text": [
      "enter the no.rows:  5\n"
     ]
    },
    {
     "ename": "NameError",
     "evalue": "name 'print_inverted_full_pyramid' is not defined",
     "output_type": "error",
     "traceback": [
      "\u001b[1;31m---------------------------------------------------------------------------\u001b[0m",
      "\u001b[1;31mNameError\u001b[0m                                 Traceback (most recent call last)",
      "Cell \u001b[1;32mIn[131], line 11\u001b[0m\n\u001b[0;32m      9\u001b[0m         \u001b[38;5;28mprint\u001b[39m()   \n\u001b[0;32m     10\u001b[0m rows\u001b[38;5;241m=\u001b[39m\u001b[38;5;28mint\u001b[39m(\u001b[38;5;28minput\u001b[39m(\u001b[38;5;124m\"\u001b[39m\u001b[38;5;124menter the no.rows: \u001b[39m\u001b[38;5;124m\"\u001b[39m))\n\u001b[1;32m---> 11\u001b[0m \u001b[43mprint_inverted_full_pyramid\u001b[49m(rows)\n",
      "\u001b[1;31mNameError\u001b[0m: name 'print_inverted_full_pyramid' is not defined"
     ]
    }
   ],
   "source": [
    "def inverted_full_pyramid(rows):\n",
    "    for i in range(rows,0,-1):\n",
    "        for j in range(rows=-1):\n",
    "            print(\" \",end=\"\")\n",
    "            \n",
    "\n",
    "        for j in range(2*i - 1):\n",
    "            print(\"*\",end=\"\")\n",
    "        print()   \n",
    "rows=int(input(\"enter the no.rows: \"))\n",
    "print_inverted_full_pyramid(rows)\n",
    "     \n",
    "        \n",
    "    "
   ]
  },
  {
   "cell_type": "code",
   "execution_count": null,
   "id": "8f416e63-e86b-4a96-8905-a3831806e8f9",
   "metadata": {},
   "outputs": [],
   "source": []
  }
 ],
 "metadata": {
  "kernelspec": {
   "display_name": "Python 3 (ipykernel)",
   "language": "python",
   "name": "python3"
  },
  "language_info": {
   "codemirror_mode": {
    "name": "ipython",
    "version": 3
   },
   "file_extension": ".py",
   "mimetype": "text/x-python",
   "name": "python",
   "nbconvert_exporter": "python",
   "pygments_lexer": "ipython3",
   "version": "3.12.3"
  }
 },
 "nbformat": 4,
 "nbformat_minor": 5
}
