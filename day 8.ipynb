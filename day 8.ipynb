{
 "cells": [
  {
   "cell_type": "code",
   "execution_count": 1,
   "id": "673dcbae-e340-4847-a052-e948621a31e2",
   "metadata": {},
   "outputs": [
    {
     "name": "stdout",
     "output_type": "stream",
     "text": [
      "[1, 4, 5, 6, 7, 8, 9]\n"
     ]
    }
   ],
   "source": [
    "#bubble sort\n",
    "arr=[5,4,8,1,9,6,7]\n",
    "for i in range(0,len(arr)):\n",
    "    for j in range(0,len(arr)-1):\n",
    "        if arr[j]>arr[j+1]:\n",
    "           temp=arr[j]\n",
    "           arr[j]=arr[j+1]\n",
    "           arr[j+1]=temp\n",
    "print(arr)\n",
    "    "
   ]
  },
  {
   "cell_type": "code",
   "execution_count": 3,
   "id": "de1c5c82-cf73-4b72-bd32-5e0fa63650db",
   "metadata": {},
   "outputs": [
    {
     "name": "stdout",
     "output_type": "stream",
     "text": [
      "[1, 4, 5, 6, 7, 8, 9]\n"
     ]
    }
   ],
   "source": [
    "# selection sort\n",
    "arr=[5,4,8,1,9,6,7]\n",
    "\n",
    "for i in range(0,len(arr)):\n",
    "    min_idx=i\n",
    "    for j in range(i+1,len(arr)):\n",
    "        if arr[min_idx]>arr[j]:\n",
    "            min_idx=j\n",
    "    \n",
    "    temp=arr[i]\n",
    "    arr[i]=arr[min_idx]\n",
    "    arr[min_idx]=temp\n",
    "\n",
    "print(arr)\n",
    "\n",
    "            "
   ]
  },
  {
   "cell_type": "code",
   "execution_count": null,
   "id": "71050349-7b62-4175-8e4a-c579ea503ccb",
   "metadata": {},
   "outputs": [],
   "source": [
    "# SELECTION SORT\n",
    "arr=[9,5,6,2,3,4]\n",
    "\n",
    "for i in range(0,len(arr)):\n",
    "    \n",
    "\n"
   ]
  },
  {
   "cell_type": "markdown",
   "id": "a636d40a-2ffe-401e-b306-9f7f5fe815b5",
   "metadata": {},
   "source": [
    "#binary search\n",
    "*sort asending order\n",
    "*find the middle element\n",
    "*compare with search element\n",
    "\n",
    "l=[23,45,67,87,65,43,54,32,21,9,89,78,97,68,95,57,48,86,73,92,13,66,46,49,24,47,96,32,59]\n",
    "l.sort()"
   ]
  },
  {
   "cell_type": "code",
   "execution_count": 2,
   "id": "ff9683e1-ef26-441a-8a91-776a63da2883",
   "metadata": {},
   "outputs": [
    {
     "name": "stdout",
     "output_type": "stream",
     "text": [
      "[9, 21, 23, 32, 43, 45, 54, 65, 67, 77, 78, 87, 88, 89, 89, 97, 99]\n"
     ]
    },
    {
     "name": "stdin",
     "output_type": "stream",
     "text": [
      " 21\n"
     ]
    },
    {
     "name": "stdout",
     "output_type": "stream",
     "text": [
      "index of elenment is: 1\n",
      "low 0 high 17 mid 8\n",
      "low 0 high 7 mid 3\n",
      "low 0 high 2 mid 1\n",
      "element found at : 1\n"
     ]
    }
   ],
   "source": [
    "l=[23,45,67,87,65,43,54,32,21,9,89,78,97,99,88,77,89]\n",
    "l.sort()\n",
    "print(l)\n",
    "low=0\n",
    "high=len(l)\n",
    "src=int(input())\n",
    "try:\n",
    "    print(\"index of elenment is:\",l.index(src))\n",
    "except:\n",
    "    print(\"item not in list\")\n",
    "flag=0\n",
    "while low<high:\n",
    "    mid=int(low+(high-low)/2)\n",
    "    print(\"low\",low,\"high\",high,\"mid\",mid)\n",
    "    if src<l[mid]:\n",
    "        high=mid-1\n",
    "    elif src>l[mid]:\n",
    "        low=mid+1\n",
    "    else:\n",
    "        flag=1\n",
    "        break;\n",
    "\n",
    "if flag==1:\n",
    "    print(\"element found at :\",mid)\n",
    "else:\n",
    "    print(\"element is not found\")"
   ]
  },
  {
   "cell_type": "code",
   "execution_count": null,
   "id": "3613ff31-6c5c-475c-b41d-b8c3e91ae8d1",
   "metadata": {},
   "outputs": [],
   "source": [
    "#valid string\n",
    "a=int(input())\n",
    "for c in string:\n",
    "    if n== {'('')'}:\n",
    "        print(\"this is valid string\")\n",
    "    if n== [ (a)  ]:\n",
    "        print(\"this is valid string\")\n",
    "\n",
    "print(i)\n",
    "    "
   ]
  },
  {
   "cell_type": "code",
   "execution_count": 23,
   "id": "6f4f666d-0274-453c-ab9f-9db1637858eb",
   "metadata": {},
   "outputs": [
    {
     "name": "stdin",
     "output_type": "stream",
     "text": [
      " thi[s is ( a{ ) ] }car\n"
     ]
    },
    {
     "name": "stdout",
     "output_type": "stream",
     "text": [
      "valid string\n"
     ]
    }
   ],
   "source": [
    "s=input()\n",
    "x=y=z=0\n",
    "for c in s:\n",
    "    match (c):\n",
    "        case '(':x+=1\n",
    "        case ')':x-=1\n",
    "        case '{':y+=1\n",
    "        case '}':y-=1\n",
    "        case '[':z+=1\n",
    "        case ']':z-=1\n",
    "        case _: continue\n",
    "\n",
    "if x+y+z == 0:\n",
    "    print(\"valid string\")\n",
    "else:\n",
    "    print(\"invalid string\")\n",
    "    \n",
    "    "
   ]
  },
  {
   "cell_type": "code",
   "execution_count": 31,
   "id": "b5e4d4ba-30a4-417e-becc-e6eab1831865",
   "metadata": {},
   "outputs": [
    {
     "name": "stdout",
     "output_type": "stream",
     "text": [
      "item added to stack\n",
      "item added to stack\n",
      "item added to stack\n",
      "item added to stack\n",
      "[11, 12, 13, 14]\n",
      "item removed from stack\n",
      "[11, 12, 13]\n",
      "item added to stack\n",
      "[11, 12, 13, 9]\n"
     ]
    }
   ],
   "source": [
    "def add(e):\n",
    "    S.append(e)\n",
    "    print(\"item added to stack\")\n",
    "\n",
    "def delete():\n",
    "    S.pop()\n",
    "    print(\"item removed from stack\")\n",
    "\n",
    "S=[]\n",
    "add(11)\n",
    "add(12)\n",
    "add(13)\n",
    "add(14)\n",
    "print(S)\n",
    "\n",
    "delete()\n",
    "print(S)\n",
    "add(9)\n",
    "print(S)\n",
    "    \n",
    "\n",
    "\n"
   ]
  },
  {
   "cell_type": "code",
   "execution_count": 53,
   "id": "8a86daa1-7353-4fd2-a026-56c435989768",
   "metadata": {},
   "outputs": [
    {
     "name": "stdout",
     "output_type": "stream",
     "text": [
      "item added in queue\n",
      "item added in queue\n",
      "item added in queue\n",
      "item added in queue\n",
      "item added in queue\n",
      "[1, 2, 3, 4, 5]\n"
     ]
    },
    {
     "ename": "NameError",
     "evalue": "name 'e' is not defined",
     "output_type": "error",
     "traceback": [
      "\u001b[1;31m---------------------------------------------------------------------------\u001b[0m",
      "\u001b[1;31mNameError\u001b[0m                                 Traceback (most recent call last)",
      "Cell \u001b[1;32mIn[53], line 19\u001b[0m\n\u001b[0;32m     17\u001b[0m add(\u001b[38;5;241m5\u001b[39m)\n\u001b[0;32m     18\u001b[0m \u001b[38;5;28mprint\u001b[39m(q)\n\u001b[1;32m---> 19\u001b[0m \u001b[43mdelete\u001b[49m\u001b[43m(\u001b[49m\u001b[43m)\u001b[49m\n\u001b[0;32m     20\u001b[0m \u001b[38;5;28mprint\u001b[39m(e)\n\u001b[0;32m     21\u001b[0m delete()\n",
      "Cell \u001b[1;32mIn[53], line 6\u001b[0m, in \u001b[0;36mdelete\u001b[1;34m()\u001b[0m\n\u001b[0;32m      5\u001b[0m \u001b[38;5;28;01mdef\u001b[39;00m \u001b[38;5;21mdelete\u001b[39m():\n\u001b[1;32m----> 6\u001b[0m     q\u001b[38;5;241m.\u001b[39mpop(\u001b[43me\u001b[49m)\n\u001b[0;32m      7\u001b[0m     \u001b[38;5;28mprint\u001b[39m(\u001b[38;5;124m\"\u001b[39m\u001b[38;5;124mitem is removed from queue\u001b[39m\u001b[38;5;124m\"\u001b[39m)\n",
      "\u001b[1;31mNameError\u001b[0m: name 'e' is not defined"
     ]
    }
   ],
   "source": [
    "def add(e):\n",
    "    q.append(e)\n",
    "    print(\"item added in queue\")\n",
    "\n",
    "def delete():\n",
    "    q.pop(e)\n",
    "    print(\"item is removed from queue\")\n",
    "    \n",
    "    \n",
    "\n",
    "\n",
    "q=[]\n",
    "add(1)\n",
    "add(2)\n",
    "add(3)\n",
    "add(4)\n",
    "add(5)\n",
    "print(q)\n",
    "delete()\n",
    "print(e)\n",
    "delete()\n",
    "print(q)\n",
    "add(9)\n",
    "print(q)\n",
    "\n",
    "    "
   ]
  },
  {
   "cell_type": "code",
   "execution_count": null,
   "id": "b50ecb29-d072-49b9-8471-bdf0cf76cef0",
   "metadata": {},
   "outputs": [],
   "source": []
  }
 ],
 "metadata": {
  "kernelspec": {
   "display_name": "Python 3 (ipykernel)",
   "language": "python",
   "name": "python3"
  },
  "language_info": {
   "codemirror_mode": {
    "name": "ipython",
    "version": 3
   },
   "file_extension": ".py",
   "mimetype": "text/x-python",
   "name": "python",
   "nbconvert_exporter": "python",
   "pygments_lexer": "ipython3",
   "version": "3.12.3"
  }
 },
 "nbformat": 4,
 "nbformat_minor": 5
}
