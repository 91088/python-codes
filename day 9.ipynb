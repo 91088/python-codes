{
 "cells": [
  {
   "cell_type": "code",
   "execution_count": 22,
   "id": "fef756dc-eadc-4861-a3ee-04d297188480",
   "metadata": {},
   "outputs": [
    {
     "name": "stdout",
     "output_type": "stream",
     "text": [
      "item added to stack\n",
      "item added to stack\n",
      "item added to stack\n",
      "item added to stack\n",
      "['a', 'b', 'c', 'd']\n"
     ]
    }
   ],
   "source": [
    "def add(e):\n",
    "    S.append(e)\n",
    "    print(\"item added to stack\")\n",
    "\n",
    "def delete():\n",
    "    S.reverse()\n",
    "    print(\"reverse the item\")\n",
    "\n",
    "S=[]\n",
    "add('a')\n",
    "add('b')\n",
    "add('c')\n",
    "add('d')\n",
    "print(S)\n",
    "\n",
    "\n",
    "\n",
    "\n",
    "    \n"
   ]
  },
  {
   "cell_type": "code",
   "execution_count": null,
   "id": "c9f65a6d-b1b9-4c4c-98b2-73d5c68a39a0",
   "metadata": {},
   "outputs": [],
   "source": [
    "a=input()\n",
    "s=[]\n",
    "for e in a:\n",
    "    s.append(e)\n",
    "\n",
    "while len(s)>0:\n",
    "    print(len(s))\n",
    "    print(s.pop(),end=\"\")\n",
    "    "
   ]
  },
  {
   "cell_type": "code",
   "execution_count": 31,
   "id": "f6c832b5-9b84-4a12-ac91-30626bfb5ef3",
   "metadata": {},
   "outputs": [
    {
     "name": "stdin",
     "output_type": "stream",
     "text": [
      " this is a car\n"
     ]
    },
    {
     "name": "stdout",
     "output_type": "stream",
     "text": [
      "car a is this "
     ]
    }
   ],
   "source": [
    "a=input()\n",
    "s=[]\n",
    "for e in a.split():\n",
    "    s.append(e)\n",
    "\n",
    "while len(s)>0:\n",
    "    print(s.pop(),end=' ')"
   ]
  },
  {
   "cell_type": "markdown",
   "id": "9a0fd126-ca76-4a37-bf82-fd375b98360b",
   "metadata": {},
   "source": [
    "#infix to postfix\n",
    "rules:\n",
    "*if it is operator push into the stack\n",
    "*if it is opreand  keep into the list\n",
    "*if the parenthesis closing then pop all the operators until the open parenthesis\n",
    "*check the priority of the operator\n",
    "\n",
    "identify character operator,brackets,operands\n",
    "operator precedence\n"
   ]
  },
  {
   "cell_type": "code",
   "execution_count": 39,
   "id": "fcc653bf-49b7-4def-8c2c-535b960e4504",
   "metadata": {},
   "outputs": [
    {
     "name": "stdin",
     "output_type": "stream",
     "text": [
      " (a+b)*c\n"
     ]
    },
    {
     "name": "stdout",
     "output_type": "stream",
     "text": [
      " ab+c*\n"
     ]
    }
   ],
   "source": [
    "def prec(e):\n",
    "    if e==\"^\":\n",
    "        return 3\n",
    "    elif e==\"*\" or e==\"/\":\n",
    "        return 2\n",
    "    elif e==\"+\" or e==\"-\":\n",
    "        return 1\n",
    "    else:\n",
    "        return -1\n",
    "        \n",
    "def asoc(e):\n",
    "    if e=='^':\n",
    "        return 'R'\n",
    "    else:\n",
    "        return 'L'\n",
    "    \n",
    "    \n",
    "exp=input()\n",
    "s=[]\n",
    "result=\" \"\n",
    "for e in exp:\n",
    "    if e.isalnum()==True:\n",
    "        result+=e\n",
    "    elif e=='(':\n",
    "        s.append(e)\n",
    "    elif e==')':\n",
    "        while s[-1]!='(':\n",
    "            result+=s.pop()\n",
    "        s.pop()\n",
    "    else:\n",
    "        while s and(prec(e)<prec(s[-1])or\n",
    "                   (prec(e)==prec(s[-1]) and asoc(e)=='L')):\n",
    "            result+=s.pop()\n",
    "        s.append(e)\n",
    "\n",
    "while s:\n",
    "    result+=s.pop()\n",
    "            \n",
    "print(result)        \n",
    "    \n",
    "        \n",
    "        "
   ]
  },
  {
   "cell_type": "code",
   "execution_count": null,
   "id": "ffdc9366-94df-46ef-af2a-8fd06a660c2b",
   "metadata": {},
   "outputs": [],
   "source": [
    "s=['a','+','(','f','g','+']\n",
    "while[-1]!='(':\n",
    "    print(s.pop())\n",
    "s.pop()    \n",
    "print(s)"
   ]
  },
  {
   "cell_type": "code",
   "execution_count": null,
   "id": "d9394060-4054-4c15-923d-a2f9b2db2bae",
   "metadata": {},
   "outputs": [],
   "source": [
    "^=3\n",
    "*,/=2\n",
    "+,-=1\n",
    "\n",
    "^=R\n",
    "other operator=L"
   ]
  },
  {
   "cell_type": "markdown",
   "id": "d9323ca2-9589-498a-a015-69d3aae0d49b",
   "metadata": {},
   "source": [
    "once upon a time there is a king who got spelled by a witch that whenever he eat he have to take care of what is sequence of his food intake.\n",
    "if he eats similar food one after it will cancel out the its effect and total energy was decreased.\n",
    "you task is to determine the total energy of the king after his meal\n",
    "\n",
    "example:\n",
    "[\"apple\",\"dal\",\"chapati\",\"rice\",\"rice\",\"apple\",\"apple\",\"dal\",\"rice\",\"dal\",\"chapati\",\"chapati\"]\n",
    "\n",
    "consider that energy released by each time will be same which is 1 unit.\n",
    "\n",
    "so the total energy intake is 6 unit as per above example.\n",
    "\n",
    "write a code to find the energy stored by the king after have all the food\n",
    "\n",
    "[\"apple\",\"dal\",\"chapati\",\"dal\",\"rice\",\"dal\"]"
   ]
  },
  {
   "cell_type": "markdown",
   "id": "6d74c1f5-d03c-4b71-87fb-063469be89cb",
   "metadata": {},
   "source": [
    "[\"apple\",\"dal\",\"chapati\",\"rice\",\"rice\",\"apple\",\"apple\",\"chapati\",\"rice\",\"dal\",\"chapati\",\"chapati\"]\n",
    "[\"apple\",\"dal\",\"rice\",\"dal\"]\n",
    "answer=4"
   ]
  },
  {
   "cell_type": "code",
   "execution_count": 9,
   "id": "46e4f5c6-99cd-4252-b100-2f817ae863a8",
   "metadata": {},
   "outputs": [
    {
     "name": "stdin",
     "output_type": "stream",
     "text": [
      " A D C R R A A D R D C C\n"
     ]
    },
    {
     "name": "stdout",
     "output_type": "stream",
     "text": [
      "['A', 'D', 'C', 'R', 'R', 'A', 'A', 'D', 'R', 'D', 'C', 'C']\n",
      "6 ['A', 'D', 'C', 'D', 'R', 'D']\n"
     ]
    }
   ],
   "source": [
    "a=[item for item in input().split()]\n",
    "print(a)\n",
    "S=[]\n",
    "for item in a:\n",
    "    if  not S:\n",
    "        S.append(item)\n",
    "    elif S[-1] == item:\n",
    "        S.pop()\n",
    "    else:\n",
    "        S.append(item)\n",
    "        \n",
    "print(len(S),S)\n",
    "\n",
    "\n",
    "    "
   ]
  },
  {
   "cell_type": "code",
   "execution_count": 8,
   "id": "f8fbfa75-6082-4081-b93b-3c368c76c18e",
   "metadata": {},
   "outputs": [
    {
     "name": "stdin",
     "output_type": "stream",
     "text": [
      " this (is {a) car}\n"
     ]
    },
    {
     "name": "stdout",
     "output_type": "stream",
     "text": [
      "unbalanced string\n"
     ]
    }
   ],
   "source": [
    "#balanced brackets\n",
    "s=input()\n",
    "x=y=z=1\n",
    "for c in s:\n",
    "    match (c):\n",
    "        case '(':x+=1\n",
    "        case ')':x-=1\n",
    "        case '{':y+=1\n",
    "        case '}':y-=1\n",
    "        case '[':z+=1\n",
    "        case ']':z-=1\n",
    "        case _: continue\n",
    "\n",
    "if x+y+z == 1:\n",
    "\n",
    "    print(\"unbalanced string\")\n",
    "    \n"
   ]
  },
  {
   "cell_type": "code",
   "execution_count": 14,
   "id": "46e27056-3431-42ed-872d-299bbfe52a54",
   "metadata": {},
   "outputs": [
    {
     "name": "stdin",
     "output_type": "stream",
     "text": [
      " ({}){{()}}\n"
     ]
    },
    {
     "name": "stdout",
     "output_type": "stream",
     "text": [
      "valid\n"
     ]
    }
   ],
   "source": [
    "s=input()\n",
    "S=[]\n",
    "for e in s:\n",
    "    if e=='('or e=='{'or e=='[':\n",
    "        S.append(e)\n",
    "    elif (e==')'and S[-1]=='(') or (e=='}' and S[-1]=='{') or (e==']' and S[-1]=='['):\n",
    "        S.pop()\n",
    "    else:\n",
    "            continue\n",
    "\n",
    "if not S:\n",
    "    print(\"valid\")\n",
    "else:\n",
    "    print(\"invalid\")\n",
    "        \n",
    "    "
   ]
  },
  {
   "cell_type": "code",
   "execution_count": 19,
   "id": "2aa4c359-fa9d-4f1b-a0cf-add2657d7a9f",
   "metadata": {},
   "outputs": [
    {
     "name": "stdout",
     "output_type": "stream",
     "text": [
      "5\n",
      "4\n",
      "3\n",
      "2\n",
      "1\n",
      "0\n"
     ]
    }
   ],
   "source": [
    "def fun(x):\n",
    "    if x==0:\n",
    "        return x\n",
    "    print(x)\n",
    "    return fun(x-1)\n",
    "\n",
    "print(fun(5))\n"
   ]
  }
 ],
 "metadata": {
  "kernelspec": {
   "display_name": "Python 3 (ipykernel)",
   "language": "python",
   "name": "python3"
  },
  "language_info": {
   "codemirror_mode": {
    "name": "ipython",
    "version": 3
   },
   "file_extension": ".py",
   "mimetype": "text/x-python",
   "name": "python",
   "nbconvert_exporter": "python",
   "pygments_lexer": "ipython3",
   "version": "3.12.3"
  }
 },
 "nbformat": 4,
 "nbformat_minor": 5
}
