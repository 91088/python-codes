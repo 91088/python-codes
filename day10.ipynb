{
 "cells": [
  {
   "cell_type": "code",
   "execution_count": 4,
   "id": "8c05a10a-ec01-4b05-af55-76fa04deeac7",
   "metadata": {},
   "outputs": [
    {
     "name": "stdout",
     "output_type": "stream",
     "text": [
      "2\n",
      "4\n",
      "6\n",
      "8\n",
      "10\n",
      "12\n",
      "14\n",
      "16\n",
      "18\n",
      "20\n"
     ]
    }
   ],
   "source": [
    "n=int(input())\n",
    "for i in range(1,11):\n",
    "    print(i*2)\n",
    "#intialization,updation,condition,statement\n",
    "#  i variable after every iteration i is changing its value\n",
    "    "
   ]
  },
  {
   "cell_type": "code",
   "execution_count": 10,
   "id": "400f8e9b-c25b-4e08-9ee5-0a4c7e772307",
   "metadata": {},
   "outputs": [
    {
     "name": "stdout",
     "output_type": "stream",
     "text": [
      "2\n",
      "4\n",
      "6\n",
      "8\n",
      "10\n",
      "12\n",
      "14\n",
      "16\n",
      "18\n",
      "20\n",
      "None\n"
     ]
    }
   ],
   "source": [
    "def fun(i):\n",
    "    if(i==11):\n",
    "        return\n",
    "    print(i*2)\n",
    "    i=i+1\n",
    "    fun(i)\n",
    "    return\n",
    "print(fun(1))"
   ]
  },
  {
   "cell_type": "code",
   "execution_count": 25,
   "id": "4deb2232-9ab2-4a55-94a4-2811066abed0",
   "metadata": {},
   "outputs": [
    {
     "name": "stdin",
     "output_type": "stream",
     "text": [
      "enter the number: 5\n"
     ]
    },
    {
     "name": "stdout",
     "output_type": "stream",
     "text": [
      "120\n"
     ]
    }
   ],
   "source": [
    "factorial=1\n",
    "n=int(input(\"enter the number:\"))\n",
    "for i in range(n,1,-1):\n",
    "    factorial*=i\n",
    "print(factorial)\n",
    "\n",
    "    \n",
    "    "
   ]
  },
  {
   "cell_type": "code",
   "execution_count": null,
   "id": "cccc2b6a-c0b1-490d-b302-b009ffee91c0",
   "metadata": {},
   "outputs": [],
   "source": [
    "def fun(i):\n",
    "    if(i==1):\n",
    "        return 1\n",
    "return i*fun(i-1)"
   ]
  },
  {
   "cell_type": "code",
   "execution_count": 2,
   "id": "8950774d-5987-4f33-a0c0-9be006df22eb",
   "metadata": {},
   "outputs": [
    {
     "name": "stdout",
     "output_type": "stream",
     "text": [
      "fibonacci sequence:\n",
      "0\n",
      "1\n",
      "1\n",
      "2\n",
      "3\n",
      "5\n",
      "8\n",
      "13\n",
      "21\n",
      "34\n"
     ]
    }
   ],
   "source": [
    "def fibonacci(n):\n",
    "    if n<=1:\n",
    "        return n\n",
    "    else:\n",
    "        return fibonacci(n-1)+fibonacci(n-2)\n",
    "\n",
    "n=10\n",
    "print(\"fibonacci sequence:\")\n",
    "for i in range(n):\n",
    "    print(fibonacci(i))\n"
   ]
  },
  {
   "cell_type": "code",
   "execution_count": 50,
   "id": "beccbd4c-7e67-4f61-9170-acd5c0851c02",
   "metadata": {},
   "outputs": [
    {
     "name": "stdout",
     "output_type": "stream",
     "text": [
      "1\n"
     ]
    }
   ],
   "source": [
    "def recur_fib(n):\n",
    "    if n<=1:\n",
    "        return n\n",
    "    else:\n",
    "        retur(recur_fib(n-1)+fib(n-2))\n",
    "print(i)"
   ]
  },
  {
   "cell_type": "markdown",
   "id": "efd24b67-1fc5-4479-922e-0f07ecfaa2ad",
   "metadata": {},
   "source": [
    "quick sort \n",
    "piviot element(always end number is take it as piviot element)\n",
    "comparing piviot vs arr[i]\n",
    "we found any element is bigger than pi element do nothing\n",
    "we found any number lesser number swap it \n",
    "basic steps:\n",
    "if(pi>arr[i])\n",
    "j-j+1\n",
    "arr[j],arr[i]=arr[i],arr[j]"
   ]
  },
  {
   "cell_type": "code",
   "execution_count": null,
   "id": "82d59ce1-a5e1-4d56-884e-092261fb502d",
   "metadata": {},
   "outputs": [],
   "source": [
    "l=[2,3,7,6,5,9,1,8,4] \n",
    "piviot=4\n",
    "pi=len(arr)-1\n",
    "i=low-high-1\n",
    "j=low-1\n"
   ]
  },
  {
   "cell_type": "code",
   "execution_count": 52,
   "id": "b6540007-0acb-49fd-90b6-95a3d17d3ad6",
   "metadata": {},
   "outputs": [
    {
     "name": "stdout",
     "output_type": "stream",
     "text": [
      "[3, 5, 7, 2, 4, 8, 9, 7, 6]\n",
      "6\n",
      "[3, 5, 2, 4, 6, 8, 9, 7, 6]\n",
      "next\n",
      "[3, 5, 2, 4, 6, 8, 9, 7, 6]\n",
      "6\n",
      "[3, 5, 2, 4, 6, 6, 9, 7, 6]\n",
      "next\n",
      "[3, 5, 2, 4, 6, 6, 9, 7, 6]\n",
      "6\n",
      "[3, 5, 2, 4, 6, 6, 6, 7, 6]\n",
      "next\n",
      "[3, 5, 2, 4, 6, 6, 6, 7, 6]\n",
      "6\n",
      "[3, 5, 2, 4, 6, 6, 6, 6, 6]\n",
      "next\n",
      "[3, 5, 2, 4, 6, 6, 6, 6, 6]\n"
     ]
    }
   ],
   "source": [
    "def findpi(arr,low,high):\n",
    "    pe=arr[high]\n",
    "    j=low-1\n",
    "    for i in range(low,high):\n",
    "        if pe>arr[i]:\n",
    "            j+=1\n",
    "            arr[i],arr[j]=arr[j],arr[i]\n",
    "    arr[j+1],arr[j+1]=arr[j+1],arr[high]\n",
    "    return j+1\n",
    "\n",
    "def quicksort(arr,low,high):\n",
    "    if low<high:\n",
    "        print(arr)\n",
    "        pi= findpi(arr,low,high)\n",
    "        print(arr[pi])\n",
    "        print(arr)\n",
    "        print(\"next\")\n",
    "        quicksort(arr,pi+1,high)\n",
    "\n",
    "arr=[3,5,7,2,4,8,9,7,6]\n",
    "\n",
    "quicksort(arr,0,len(arr)-1)\n",
    "\n",
    "print(arr)\n",
    "    "
   ]
  },
  {
   "cell_type": "markdown",
   "id": "4592af7c-54f2-41cd-a6f4-db1b668a2449",
   "metadata": {},
   "source": [
    "3,5,7,2,4,8,1,9,6\n"
   ]
  },
  {
   "cell_type": "code",
   "execution_count": 4,
   "id": "46ea5dcb-860f-4830-a6ad-8adadf89510b",
   "metadata": {},
   "outputs": [
    {
     "name": "stdout",
     "output_type": "stream",
     "text": [
      "A= <__main__.node object at 0x0000026456AFAA80>\n",
      "B= <__main__.node object at 0x0000026456AFBE30>\n",
      "C= <__main__.node object at 0x0000026456A89B20>\n",
      "D= <__main__.node object at 0x0000026456AD27B0>\n",
      "<__main__.node object at 0x0000026456AFAA80> -->\n",
      "<__main__.node object at 0x0000026456AFBE30> -->\n",
      "<__main__.node object at 0x0000026456A89B20> -->\n",
      "<__main__.node object at 0x0000026456AD27B0> -->\n"
     ]
    }
   ],
   "source": [
    "class node:\n",
    "    def __init__(self,value):\n",
    "        self.data=value\n",
    "        self.next=None\n",
    "\n",
    "A=node(\"apple\")\n",
    "B=node(\"book\")\n",
    "C=node(\"cat\")\n",
    "D=node(\"Dog\")\n",
    "\n",
    "head=A\n",
    "head.next=B\n",
    "head.next.next=C\n",
    "head.next.next.next=D\n",
    "\n",
    "print(\"A=\",A)\n",
    "print(\"B=\",B)\n",
    "print(\"C=\",C)\n",
    "print(\"D=\",D)\n",
    "\n",
    "print(head,\"-->\")\n",
    "print(head.next,\"-->\")\n",
    "print(head.next.next,\"-->\")\n",
    "print(head.next.next.next,\"-->\")\n",
    "\n"
   ]
  },
  {
   "cell_type": "code",
   "execution_count": 5,
   "id": "c2dd708d-17e7-402b-a4f5-ea1b740ddb44",
   "metadata": {},
   "outputs": [
    {
     "name": "stdout",
     "output_type": "stream",
     "text": [
      "node 1 <__main__.node object at 0x0000026456AFBA40> 1\n",
      "node 2 <__main__.node object at 0x0000026456A89B20> 2\n",
      "node 3 <__main__.node object at 0x0000026456AD27B0> 3\n",
      "node 4 <__main__.node object at 0x0000026456AFAA80> 4\n"
     ]
    }
   ],
   "source": [
    "class node:\n",
    "    def __init__(self,value):\n",
    "        self.data=value\n",
    "        self.next=None\n",
    "\n",
    "A=node(\"apple\")\n",
    "B=node(\"book\")\n",
    "C=node(\"cat\")\n",
    "D=node(\"Dog\")\n",
    "\n",
    "head=node(1)\n",
    "head.next=node(2)\n",
    "head.next.next=node(3)\n",
    "head.next.next.next=node(4)\n",
    "\n",
    "print(\"node 1\",head,head.data)\n",
    "print(\"node 2\",head.next,head.next.data)\n",
    "print(\"node 3\",head.next.next,head.next.next.data)\n",
    "print(\"node 4\",head.next.next.next,head.next.next.next.data)\n"
   ]
  },
  {
   "cell_type": "code",
   "execution_count": null,
   "id": "c421d24c-b7ad-4ce0-85bd-6fb1d6ade71f",
   "metadata": {},
   "outputs": [],
   "source": []
  }
 ],
 "metadata": {
  "kernelspec": {
   "display_name": "Python 3 (ipykernel)",
   "language": "python",
   "name": "python3"
  },
  "language_info": {
   "codemirror_mode": {
    "name": "ipython",
    "version": 3
   },
   "file_extension": ".py",
   "mimetype": "text/x-python",
   "name": "python",
   "nbconvert_exporter": "python",
   "pygments_lexer": "ipython3",
   "version": "3.12.3"
  }
 },
 "nbformat": 4,
 "nbformat_minor": 5
}
