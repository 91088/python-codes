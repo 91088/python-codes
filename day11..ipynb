{
 "cells": [
  {
   "cell_type": "code",
   "execution_count": 2,
   "id": "e664be2d-3573-4287-8d83-aad2e1d3f76f",
   "metadata": {},
   "outputs": [
    {
     "name": "stdout",
     "output_type": "stream",
     "text": [
      "1 --> 2 --> 3 --> 4 --> 5 -->\n"
     ]
    }
   ],
   "source": [
    "class node:\n",
    "    def __init__(self,value):\n",
    "        self.data=value\n",
    "        self.next=node\n",
    "\n",
    "Head = node(1)\n",
    "Head.next = node(2)\n",
    "Head.next.next = node(3)\n",
    "Head.next.next.next= node(4)\n",
    "Head.next.next.next.next = node(5)\n",
    "\n",
    "print(Head.data,\"-->\",\n",
    "Head.next.data,\"-->\",\n",
    "Head.next.next.data,\"-->\",\n",
    "Head.next.next.next.data,\"-->\",\n",
    "Head.next.next.next.next.data,\"-->\",)"
   ]
  },
  {
   "cell_type": "code",
   "execution_count": 3,
   "id": "8ab09d50-2057-46ae-91e3-ce1bb744c1e3",
   "metadata": {},
   "outputs": [
    {
     "name": "stdin",
     "output_type": "stream",
     "text": [
      " -1\n"
     ]
    },
    {
     "name": "stdout",
     "output_type": "stream",
     "text": [
      "-1\n"
     ]
    }
   ],
   "source": [
    "x=int(input())\n",
    "temp = node(x)\n",
    "temp.next = Head\n",
    "Head=temp\n",
    "\n",
    "print(Head.data)"
   ]
  },
  {
   "cell_type": "code",
   "execution_count": 4,
   "id": "7e3a595c-e4e4-4f45-a853-8afa910a1833",
   "metadata": {},
   "outputs": [
    {
     "name": "stdout",
     "output_type": "stream",
     "text": [
      "-1 --> 1 --> 2 --> 3 --> 4 --> 5 -->\n"
     ]
    }
   ],
   "source": [
    "print(Head.data,\"-->\",\n",
    "Head.next.data,\"-->\",\n",
    "Head.next.next.data,\"-->\",\n",
    "Head.next.next.next.data,\"-->\",\n",
    "Head.next.next.next.next.data,\"-->\",\n",
    "Head.next.next.next.next.next.data,\"-->\",)\n",
    "\n"
   ]
  },
  {
   "cell_type": "code",
   "execution_count": 8,
   "id": "9fc55bc6-38d1-41c4-9e76-251521fe1f48",
   "metadata": {},
   "outputs": [
    {
     "name": "stdin",
     "output_type": "stream",
     "text": [
      " 10\n"
     ]
    },
    {
     "ename": "AttributeError",
     "evalue": "type object 'node' has no attribute 'next'",
     "output_type": "error",
     "traceback": [
      "\u001b[1;31m---------------------------------------------------------------------------\u001b[0m",
      "\u001b[1;31mAttributeError\u001b[0m                            Traceback (most recent call last)",
      "Cell \u001b[1;32mIn[8], line 9\u001b[0m\n\u001b[0;32m      6\u001b[0m     Head\u001b[38;5;241m=\u001b[39mtemp\n\u001b[0;32m      7\u001b[0m \u001b[38;5;28;01melse\u001b[39;00m:\n\u001b[1;32m----> 9\u001b[0m     \u001b[38;5;28;01mwhile\u001b[39;00m \u001b[43mcurr\u001b[49m\u001b[38;5;241;43m.\u001b[39;49m\u001b[43mnext\u001b[49m\u001b[38;5;241m!=\u001b[39m\u001b[38;5;28;01mNone\u001b[39;00m:\n\u001b[0;32m     10\u001b[0m         curr\u001b[38;5;241m=\u001b[39mcurr\u001b[38;5;241m.\u001b[39mnext\n\u001b[0;32m     11\u001b[0m     curr\u001b[38;5;241m.\u001b[39mnext\u001b[38;5;241m=\u001b[39mtemp\n",
      "\u001b[1;31mAttributeError\u001b[0m: type object 'node' has no attribute 'next'"
     ]
    }
   ],
   "source": [
    "x=int(input())\n",
    "temp=node(x)\n",
    "curr=Head\n",
    "\n",
    "if curr==None:\n",
    "    Head=temp\n",
    "else:\n",
    "    \n",
    "    while curr.next!=None:\n",
    "        curr=curr.next\n",
    "    curr.next=temp"
   ]
  },
  {
   "cell_type": "code",
   "execution_count": 9,
   "id": "41dc52b6-0907-4649-964c-97ae05e357f5",
   "metadata": {},
   "outputs": [
    {
     "name": "stdin",
     "output_type": "stream",
     "text": [
      "enter the location value:  4\n",
      "enter the value:  12\n"
     ]
    }
   ],
   "source": [
    "l=int(input(\"enter the location value: \"))\n",
    "x=int(input(\"enter the value: \"))\n",
    "curr = Head\n",
    "while curr != None:\n",
    "    if(curr.data == l):\n",
    "        break\n",
    "    curr =curr.next\n",
    "temp=node(x)\n",
    "temp.next=curr.next\n",
    "curr.next=temp\n",
    "    "
   ]
  },
  {
   "cell_type": "code",
   "execution_count": null,
   "id": "a424e964-2b21-4f16-9048-407fdebd00e7",
   "metadata": {},
   "outputs": [],
   "source": [
    "curr=Head\n",
    "\n",
    "while curr !=None:\n",
    "    print(curr.data,\"-->\",end=\" \")\n",
    "    curr=curr.next"
   ]
  },
  {
   "cell_type": "code",
   "execution_count": null,
   "id": "b91f8a74-35bd-4226-882e-e9681e46f6aa",
   "metadata": {},
   "outputs": [],
   "source": [
    "class Node:\n",
    "    def _init_(self,value):\n",
    "        self.data=value\n",
    "        self.next=None\n",
    "class linkedlist:\n",
    "    def _init_(self):\n",
    "                 self.head=None\n",
    "    def insertatbeg(self,value):\n",
    "            newnode=Node(value)\n",
    "            if self.head==None:\n",
    "                self.head=newnode\n",
    "            else:\n",
    "                newnode.next=self.head\n",
    "                self.head=newnode\n",
    "    def insertatend(self,value):\n",
    "            newnode=Node(value)\n",
    "            if self.head==None:\n",
    "               self.head=newnode\n",
    "            else:\n",
    "                curr=self.head\n",
    "                while curr.next!=None:\n",
    "                      curr=curr.next\n",
    "                curr.next=newnode\n",
    "   \n",
    "    def insertanywhere(self,value,key):\n",
    "            newnode=Node(value)\n",
    "            if self.head==None:\n",
    "                self.head=newnode\n",
    "            else:\n",
    "                curr=self.head\n",
    "                while curr!=None:\n",
    "                    if curr.data==key:\n",
    "                        newnode.next=curr.next\n",
    "                        curr.next=newnode\n",
    "                        break\n",
    "                    curr=curr.next\n",
    "    def insertmid(self,value):\n",
    "            newnode=Node(value)\n",
    "            count=0\n",
    "            if self.head==None:\n",
    "               self.head=newnode\n",
    "            elif self.head.next==None:\n",
    "                 self.head.next=newnode\n",
    "            else:\n",
    "                curr=self.head\n",
    "                while curr!=None:\n",
    "                     count+=1 \n",
    "                     curr=curr.next\n",
    "                curr=self.head\n",
    "                for i in range(count//2):\n",
    "                    curr=curr.next\n",
    "                newnode.next=curr.next\n",
    "                curr.next=newnode               \n",
    "    def count(self):\n",
    "        count=0\n",
    "        if self.head==None:\n",
    "            print(\"not found\")  \n",
    "        else:\n",
    "            curr=self.head\n",
    "            while curr!=None:\n",
    "                count+=1\n",
    "                curr=curr.next\n",
    "            print(count)\n",
    "    def middle(self,value):\n",
    "            newnode=Node(value)\n",
    "            if self.head==None:\n",
    "               self.head=newnode\n",
    "            elif self.head.next==None:\n",
    "                 self.head.next=newnode\n",
    "            fast=self.head\n",
    "            slow=self.head\n",
    "            while fast.next!=None and fast.next.next!=None:\n",
    "                 fast=fast.next.next\n",
    "                 slow=slow.next\n",
    "            newnode.next=slow.next\n",
    "            slow.next=newnode\n",
    "    def listsearch(self,key):\n",
    "            curr=self.head\n",
    "            while curr!=None:\n",
    "                if curr.data==key:\n",
    "                    print(\"found\")\n",
    "                    break\n",
    "                curr=curr.next\n",
    "            else:\n",
    "                    print(\"not found\")                    \n",
    "    \n",
    "    def printlist(self):\n",
    "            curr=self.head\n",
    "            while (curr!=None):\n",
    "                print(curr.data,\"->\",end=\" \")\n",
    "                curr=curr.next\n",
    "            print(\"null\")\n",
    "l=linkedlist()\n",
    "l.insertatbeg(1)                                                            \n",
    "l.insertatbeg(2)\n",
    "l.insertatbeg(3)\n",
    "l.insertatbeg(4)\n",
    "l.insertatend(5)\n",
    "l.insertatend(6)\n",
    "l.insertanywhere(5,6)\n",
    "l.insertmid(45)\n",
    "l.printlist()\n",
    "l.listsearch(7)\n",
    "l.count()"
   ]
  },
  {
   "cell_type": "markdown",
   "id": "f4f1cb96-cf90-4874-a59d-8ad6d17e8ed2",
   "metadata": {},
   "source": [
    "#### tree:data will be stored in the form of hireachly(important data structure)\n",
    "ex:education system,college \n",
    "roots\n",
    "branch\n",
    "nodes\n",
    "binary tree\n",
    "n-ary tree(it takes less space)\n",
    "tries\n",
    "\n",
    "4 types of travesal tree\n",
    "preorder(rlr)\n",
    "inorder(lrr)\n",
    "postorder(lrr)\n",
    "levelorder\n",
    "\n"
   ]
  },
  {
   "cell_type": "code",
   "execution_count": 20,
   "id": "0ff152d0-617f-4e76-b273-17c2fcef8d81",
   "metadata": {},
   "outputs": [
    {
     "name": "stdout",
     "output_type": "stream",
     "text": [
      "<function preorder at 0x000001F54D1B3CE0>\n"
     ]
    }
   ],
   "source": [
    "\n",
    "def preorder(root):\n",
    "    if root==None:\n",
    "        print(root.data)\n",
    "        preorder(root.left)\n",
    "        preorder(root.right)\n",
    "    \n",
    "\n",
    "\n",
    "root=node(1)\n",
    "root.left=node(2)\n",
    "root.right=node(3)\n",
    "\n",
    "root.left.left=node(4)\n",
    "root.right.right=node(5)\n",
    "\n",
    "root.right.left=node(6)\n",
    "root.left.right=node(7)\n",
    "print(preorder)"
   ]
  },
  {
   "cell_type": "code",
   "execution_count": 21,
   "id": "58eb01a2-38be-487c-b319-5499b10050ff",
   "metadata": {},
   "outputs": [
    {
     "name": "stdout",
     "output_type": "stream",
     "text": [
      "4\n",
      "2\n",
      "5\n",
      "1\n",
      "6\n",
      "3\n",
      "7\n"
     ]
    }
   ],
   "source": [
    "class node:\n",
    "    def __init__(self,value):\n",
    "        self.data=value\n",
    "        self.left=None\n",
    "        self.right=None\n",
    "\n",
    "def inorder(root):\n",
    "    if root==None:\n",
    "        return\n",
    "    inorder(root.left)\n",
    "    print(root.data)\n",
    "    inorder(root.right)\n",
    "        \n",
    "root=node(1)\n",
    "root.left=node(2)\n",
    "root.right=node(3)\n",
    "\n",
    "root.left.left=node(4)\n",
    "root.left.right=node(5)\n",
    "\n",
    "root.right.left=node(6)\n",
    "root.right.right=node(7)\n",
    "inorder(root)\n",
    "        "
   ]
  },
  {
   "cell_type": "code",
   "execution_count": 22,
   "id": "78fb6055-6f76-4fdc-825b-6905bbf6cb83",
   "metadata": {},
   "outputs": [
    {
     "name": "stdout",
     "output_type": "stream",
     "text": [
      "4\n",
      "5\n",
      "2\n",
      "6\n",
      "7\n",
      "3\n",
      "1\n"
     ]
    }
   ],
   "source": [
    "class node:\n",
    "    def __init__(self,value):\n",
    "        self.data=value\n",
    "        self.left=None\n",
    "        self.right=None\n",
    "\n",
    "def postorder(root):\n",
    "    if root==None:\n",
    "        return\n",
    "    postorder(root.left)\n",
    "    postorder(root.right)\n",
    "    print(root.data)\n",
    "        \n",
    "root=node(1)\n",
    "root.left=node(2)\n",
    "root.right=node(3)\n",
    "\n",
    "root.left.left=node(4)\n",
    "root.left.right=node(5)\n",
    "\n",
    "root.right.left=node(6)\n",
    "root.right.right=node(7)\n",
    "postorder(root)    \n",
    "        "
   ]
  },
  {
   "cell_type": "code",
   "execution_count": 23,
   "id": "4e85e982-7179-440b-972c-1a251b07d71b",
   "metadata": {},
   "outputs": [
    {
     "name": "stdout",
     "output_type": "stream",
     "text": [
      "1\n",
      "2\n",
      "4\n",
      "5\n",
      "3\n",
      "6\n",
      "7\n"
     ]
    }
   ],
   "source": [
    "class node:\n",
    "    def __init__(self,value):\n",
    "        self.data=value\n",
    "        self.left=None\n",
    "        self.right=None\n",
    "\n",
    "def preorder(root):\n",
    "    if root==None:\n",
    "        return\n",
    "    print(root.data)\n",
    "    preorder(root.left)\n",
    "    preorder(root.right)\n",
    "\n",
    "\n",
    "root=node(1)\n",
    "root.left=node(2)\n",
    "root.right=node(3)\n",
    "\n",
    "root.left.left=node(4)\n",
    "root.left.right=node(5)\n",
    "\n",
    "root.right.left=node(6)\n",
    "root.right.right=node(7)\n",
    "preorder(root)  \n",
    "        "
   ]
  },
  {
   "cell_type": "code",
   "execution_count": 32,
   "id": "e160cefb-98a6-46aa-a9bc-5b775e690a79",
   "metadata": {},
   "outputs": [
    {
     "name": "stdout",
     "output_type": "stream",
     "text": [
      "1 \n",
      "2 3 \n",
      "4 5 6 7 \n"
     ]
    }
   ],
   "source": [
    "class node:\n",
    "    def __init__(self,value):\n",
    "        self.data=value\n",
    "        self.left=None\n",
    "        self.right=None\n",
    "        \n",
    "def levelorder(root):\n",
    "    Q=[root,None]\n",
    "    while Q:\n",
    "        curr = Q.pop(0)\n",
    "        if curr == None:\n",
    "            print()\n",
    "            if Q:\n",
    "                Q.append(curr)\n",
    "        else:\n",
    "            print(curr.data,end=\" \")\n",
    "            if curr.left != None:\n",
    "                Q.append(curr.left)\n",
    "                \n",
    "            if curr.right != None:\n",
    "                Q.append(curr.right)\n",
    "    \n",
    "root=node(1)\n",
    "root.left=node(2)\n",
    "root.right=node(3)\n",
    "\n",
    "root.left.left=node(4)\n",
    "root.left.right=node(5)\n",
    "\n",
    "root.right.left=node(6)\n",
    "root.right.right=node(7)\n",
    "levelorder(root)  "
   ]
  },
  {
   "cell_type": "code",
   "execution_count": null,
   "id": "1f3fb244-b1ae-41c2-8782-2ef02aaa9e4d",
   "metadata": {},
   "outputs": [],
   "source": []
  }
 ],
 "metadata": {
  "kernelspec": {
   "display_name": "Python 3 (ipykernel)",
   "language": "python",
   "name": "python3"
  },
  "language_info": {
   "codemirror_mode": {
    "name": "ipython",
    "version": 3
   },
   "file_extension": ".py",
   "mimetype": "text/x-python",
   "name": "python",
   "nbconvert_exporter": "python",
   "pygments_lexer": "ipython3",
   "version": "3.12.3"
  }
 },
 "nbformat": 4,
 "nbformat_minor": 5
}
