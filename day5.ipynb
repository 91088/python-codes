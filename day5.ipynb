{
 "cells": [
  {
   "cell_type": "code",
   "execution_count": 11,
   "id": "e0a899ce-058b-4ca6-b502-4c44a81620f4",
   "metadata": {},
   "outputs": [
    {
     "name": "stdin",
     "output_type": "stream",
     "text": [
      "enter the fruits name sperated by each word: mango apple banana grapes\n"
     ]
    }
   ],
   "source": [
    "import os\n",
    "n=input(\"enter the fruits name sperated by each word:\")\n",
    "with open (\"fruit_names.txt\",'w') as f:\n",
    "     f.write(n)\n",
    "     f.close() "
   ]
  },
  {
   "cell_type": "code",
   "execution_count": 13,
   "id": "b1e646c6-626c-4ab7-b010-fab07d6e7535",
   "metadata": {},
   "outputs": [
    {
     "name": "stdout",
     "output_type": "stream",
     "text": [
      "this laptop have is i5 8gm 1DB SSD\n"
     ]
    }
   ],
   "source": [
    "class laptop:\n",
    "    def config(self):\n",
    "        print(\"this laptop have is i5 8gm 1DB SSD\")\n",
    "        \n",
    "hp=laptop()\n",
    "        \n",
    "hp.config()\n",
    "        "
   ]
  },
  {
   "cell_type": "code",
   "execution_count": 22,
   "id": "1d2657cf-369a-46da-b941-cf08f848b1df",
   "metadata": {},
   "outputs": [
    {
     "name": "stdout",
     "output_type": "stream",
     "text": [
      "this laptop have variable as processor,ram and storage\n"
     ]
    }
   ],
   "source": [
    "class laptop:\n",
    "    def config(self):\n",
    "        print(\"this laptop have variable as processor,ram and storage\")\n",
    "\n",
    "dell=laptop()\n",
    "\n",
    "dell.config()\n",
    "\n",
    "\n",
    "\n"
   ]
  },
  {
   "cell_type": "code",
   "execution_count": 42,
   "id": "c26c9c1a-2d4f-4a45-b591-f94396ae76da",
   "metadata": {},
   "outputs": [
    {
     "name": "stdout",
     "output_type": "stream",
     "text": [
      "onfiguration of the laptop is:\n",
      "processor  i5\n",
      "ram 8\n",
      "storage 512\n"
     ]
    }
   ],
   "source": [
    "class laptop:\n",
    "    def __init__(self,p,r,s):\n",
    "       self.processor=p\n",
    "       self.ram=r\n",
    "       self.storage=s\n",
    "\n",
    "    def config(self):\n",
    "        print(\"configuration of the laptop is:\")\n",
    "        print(\"processor \",self.processor)\n",
    "        print(\"ram\",self.ram)\n",
    "        print(\"storage\",self.storage)\n",
    "\n",
    "if __name__==\"__main__\":\n",
    "    hp = laptop(\"i5\",8,512)\n",
    "    \n",
    "    hp.config()"
   ]
  },
  {
   "cell_type": "code",
   "execution_count": null,
   "id": "575c7e47-8ae0-4ec8-bffa-3d44936c543e",
   "metadata": {},
   "outputs": [],
   "source": [
    "##create a class student which can hold the marks in 5 subjects and also create a functions to print the marks and calculate the avg of 5 subjects\n",
    "class Student:\n",
    "    def _init_(self, name, m1):\n",
    "        self.name = name\n",
    "        self.marks = marks\n",
    "\n",
    "    def print_marks(self):\n",
    "        print(\"marks\")\n",
    "        m1=int(iput(\"enter first subject marks:\"))\n",
    "        m2=int(iput(\"enter second subject marks:\"))\n",
    "        m3=int(iput(\"enter third subject marks:\"))\n",
    "        m4=int(iput(\"enter fourth subject marks:\"))\n",
    "        m5=int(iput(\"enter fifth subject marks:\"))\n",
    "\n",
    "avg=(m1+m2+m3+m4+m5)/5\n",
    "print(\"average of 5 subject marks =\",avg)\n",
    "    \n",
    "    \n"
   ]
  },
  {
   "cell_type": "code",
   "execution_count": 56,
   "id": "5f1b341a-f39c-4c26-b5e8-39872e32f9e0",
   "metadata": {},
   "outputs": [
    {
     "name": "stdout",
     "output_type": "stream",
     "text": [
      "this is fun1\n",
      "this is fun2\n",
      "this is fun3\n",
      "this is fun4\n",
      "this is fun1\n"
     ]
    }
   ],
   "source": [
    "class a:\n",
    "    def fun1(self):\n",
    "         print(\"this is fun1\")\n",
    "         \n",
    "    def fun2(self):\n",
    "         print(\"this is fun2\")\n",
    "        \n",
    "class b(a):\n",
    "    def fun3(self):\n",
    "         print(\"this is fun3\")\n",
    "        \n",
    "    def fun4(self):\n",
    "         print(\"this is fun4\")\n",
    "        \n",
    "class c(a):\n",
    "    def fun5(self):\n",
    "         print(\"this is fun5\")\n",
    "        \n",
    "    def fun6(self):\n",
    "         print(\"this is fun6\")\n",
    "        \n",
    "if __name__==\"__main__\":\n",
    "    ob1=a()\n",
    "    ob2=b()\n",
    "    ob3=c()\n",
    "\n",
    "    ob1.fun1()\n",
    "    ob1.fun2()\n",
    "    ob2.fun3()\n",
    "    ob2.fun4()\n",
    "    ob3.fun1()\n",
    "    \n",
    "    \n",
    "        "
   ]
  },
  {
   "cell_type": "code",
   "execution_count": 16,
   "id": "02be06b1-1ff7-4cef-a52e-bfbfa31e3c5c",
   "metadata": {},
   "outputs": [
    {
     "name": "stdout",
     "output_type": "stream",
     "text": [
      "constructor of class c\n",
      "20 10\n"
     ]
    }
   ],
   "source": [
    "class c:\n",
    "    def __init__(self,a=20,b=10):\n",
    "        print(\"constructor of class c\")\n",
    "        self.x=a\n",
    "        self.y=b\n",
    "        print(self.x,self.y)\n",
    "\n",
    "ob=c()\n",
    "\n"
   ]
  },
  {
   "cell_type": "code",
   "execution_count": 62,
   "id": "0b51b573-fbb4-4252-a867-ed321c1a39e3",
   "metadata": {},
   "outputs": [
    {
     "ename": "TypeError",
     "evalue": "professional_laptop.__init__() takes 5 positional arguments but 6 were given",
     "output_type": "error",
     "traceback": [
      "\u001b[1;31m---------------------------------------------------------------------------\u001b[0m",
      "\u001b[1;31mTypeError\u001b[0m                                 Traceback (most recent call last)",
      "Cell \u001b[1;32mIn[62], line 17\u001b[0m\n\u001b[0;32m     14\u001b[0m         \u001b[38;5;28mself\u001b[39m\u001b[38;5;241m.\u001b[39mgraph\u001b[38;5;241m=\u001b[39mgraph\n\u001b[0;32m     15\u001b[0m         \u001b[38;5;28msuper\u001b[39m()\u001b[38;5;241m.\u001b[39m\u001b[38;5;21m__init__\u001b[39m(p,r,s)\n\u001b[1;32m---> 17\u001b[0m pro1\u001b[38;5;241m=\u001b[39m\u001b[43mprofessional_laptop\u001b[49m\u001b[43m(\u001b[49m\u001b[38;5;241;43m2\u001b[39;49m\u001b[43m,\u001b[49m\u001b[38;5;124;43m\"\u001b[39;49m\u001b[38;5;124;43m6hrs\u001b[39;49m\u001b[38;5;124;43m\"\u001b[39;49m\u001b[43m,\u001b[49m\u001b[38;5;124;43m\"\u001b[39;49m\u001b[38;5;124;43mi5\u001b[39;49m\u001b[38;5;124;43m\"\u001b[39;49m\u001b[43m,\u001b[49m\u001b[38;5;241;43m8\u001b[39;49m\u001b[43m,\u001b[49m\u001b[38;5;241;43m512\u001b[39;49m\u001b[43m)\u001b[49m\n\u001b[0;32m     19\u001b[0m gam1\u001b[38;5;241m=\u001b[39mgaming_laptop(\u001b[38;5;241m2\u001b[39m,\u001b[38;5;241m2\u001b[39m,\u001b[38;5;124m\"\u001b[39m\u001b[38;5;124m6hrs\u001b[39m\u001b[38;5;124m\"\u001b[39m,\u001b[38;5;124m\"\u001b[39m\u001b[38;5;124mi5\u001b[39m\u001b[38;5;124m\"\u001b[39m,\u001b[38;5;241m8\u001b[39m,\u001b[38;5;241m512\u001b[39m)\n\u001b[0;32m     21\u001b[0m \u001b[38;5;28mprint\u001b[39m(\u001b[38;5;124m\"\u001b[39m\u001b[38;5;124mprofessional laptop having \u001b[39m\u001b[38;5;124m\"\u001b[39m,pro1\u001b[38;5;241m.\u001b[39mprocessor,pro1\u001b[38;5;241m.\u001b[39mram,pro1\u001b[38;5;241m.\u001b[39mstorage,pro1,battery)\n",
      "\u001b[1;31mTypeError\u001b[0m: professional_laptop.__init__() takes 5 positional arguments but 6 were given"
     ]
    }
   ],
   "source": [
    "class laptop:\n",
    "    def __init__(self,p,r,s):\n",
    "        self.processor=p\n",
    "        self.ram=r\n",
    "        self.stroage=s\n",
    "\n",
    "class professional_laptop(laptop):\n",
    "    def __init__(self,bat,p,r,s):\n",
    "        self.battery=b\n",
    "        super().__init__(p,r,s)\n",
    "\n",
    "class gaming_laptop(professional_laptop):\n",
    "    def __init__(self,graph,bat,p,r,s,b):\n",
    "        self.graph=graph\n",
    "        super().__init__(p,r,s)\n",
    "\n",
    "pro1=professional_laptop(\"6hrs\",\"i5\",8,512)\n",
    "\n",
    "gam1=gaming_laptop(2,2,\"6hrs\",\"i5\",8,512)\n",
    "\n",
    "print(\"professional laptop having \",pro1.processor,pro1.ram,pro1.storage,pro1,battery)\n",
    "print(\"gaming laptop having\",gam1.processor,gam1.graph,gam1.battery)\n",
    "\n",
    "\n",
    "\n",
    "        \n",
    "        \n",
    "        \n",
    "    \n"
   ]
  },
  {
   "cell_type": "code",
   "execution_count": null,
   "id": "76859c3e-e833-44d0-9386-6332abf0ce56",
   "metadata": {},
   "outputs": [],
   "source": []
  },
  {
   "cell_type": "code",
   "execution_count": null,
   "id": "328758b8-14f7-4496-89e5-e24a89abddd7",
   "metadata": {},
   "outputs": [],
   "source": [
    "#write a program to demonstrate the working of a railway ticket booking\n",
    "#create requried classes like\n",
    "#ticket class\n",
    "#general class\n",
    "#sleeper class\n",
    "#ac ticket\n",
    "#first class ticket\n",
    "#show the uses of inheritance in this and create a proper ticket booking  model for indian railway.\n",
    "#after booking the ticket you have to show the final ticket price to the customer.\n",
    "#consider only 3 source and destinace as\n",
    "#a 500kms| b 600kms |c 400kms\n",
    "#booking charges:50|distance charges:2/km |\n",
    "#sleeper charges:2/km |ac charges:4/km | first class charges: 5/km\n",
    "class ticket:\n",
    "    def _init_(self,d):\n",
    "         self.distance=int(d)\n",
    "         self.fareprice=none\n",
    "       \n",
    "class general (ticket):\n",
    "    def _init_(self,d):\n",
    "        super()._init_(d)\n",
    "    def print_ticket(self):\n",
    "        self.fare_price=50+(self.distance*2)\n",
    "        return self.fareprice\n",
    "        \n",
    "\n",
    "        \n",
    "        \n",
    "class slp(general):\n",
    "    def _init_(self,d):\n",
    "         super()._init_(d)\n",
    "    def print_ticket(self):\n",
    "        self.fareprice=super().print_ticket()+(2*self.distance)\n",
    "        return self.fareprice\n",
    "        \n",
    "\n",
    "class ac(slp):\n",
    "    def _init_(self,d):\n",
    "         super()._init_(d)\n",
    "    def print_ticket(self):\n",
    "        self.farePrice=super().print_ticket()+(4*self.distance)\n",
    "        return self.fareprice\n",
    "\n",
    "class fc(ac):\n",
    "    def _init_(self,d):\n",
    "         super()._init_(d)\n",
    "    def print_ticket(self):\n",
    "        self.fareprice=super().print_ticket()+(5*self.distance)\n",
    "        return self.fareprice\n",
    "\n",
    "jur=ac(500)\n",
    "print(\"ticket booked fare price will be:\",jur.print_ticket())\n",
    " \n",
    "                            \n",
    "                                               \n",
    "\n",
    "   \n"
   ]
  },
  {
   "cell_type": "code",
   "execution_count": null,
   "id": "3f4648c5-54a5-427a-985d-979e34e0c7b6",
   "metadata": {},
   "outputs": [],
   "source": [
    "ticket booked fare price will be:  3250"
   ]
  },
  {
   "cell_type": "code",
   "execution_count": null,
   "id": "c9b1bf7b-a50c-471e-a6b0-0f2c54bb0801",
   "metadata": {},
   "outputs": [],
   "source": []
  }
 ],
 "metadata": {
  "kernelspec": {
   "display_name": "Python 3 (ipykernel)",
   "language": "python",
   "name": "python3"
  },
  "language_info": {
   "codemirror_mode": {
    "name": "ipython",
    "version": 3
   },
   "file_extension": ".py",
   "mimetype": "text/x-python",
   "name": "python",
   "nbconvert_exporter": "python",
   "pygments_lexer": "ipython3",
   "version": "3.12.3"
  }
 },
 "nbformat": 4,
 "nbformat_minor": 5
}
