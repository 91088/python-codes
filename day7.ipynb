{
 "cells": [
  {
   "cell_type": "markdown",
   "id": "c2978659-cce9-4554-bcbb-931a28800c42",
   "metadata": {},
   "source": [
    "time complexity\n",
    "constant time\n",
    "linear\n",
    "quadratic\n",
    "exponential\n",
    "factorial(biggest complexity ever seen)\n",
    "\n",
    "space complexity\n",
    "constant space and linear space (only single copy)\n",
    "\n",
    "\n"
   ]
  },
  {
   "cell_type": "code",
   "execution_count": 14,
   "id": "66577c08-d91d-4bc0-87ea-a2033322f44f",
   "metadata": {},
   "outputs": [
    {
     "name": "stdout",
     "output_type": "stream",
     "text": [
      "19\n"
     ]
    }
   ],
   "source": [
    "#l=[2,4,6,1,3,7,4,6,9,3,6,8,3,6,4,1,3,9,6,4,5,6,8,3,7,3,6,8]\n",
    "# find the maximum sum of any 3 consecutive elements of this array\n",
    "l=[2,4,6,1,3,7,4,6,9,3,6,8,3,6,4,1,3,9,6,4,5,6,8,3,7,3,6,8]\n",
    "max=0\n",
    "for x in range(0,len(l)-2):\n",
    "    sum=l[x]+l[x+1]+l[x+2]\n",
    "    if(max<sum):\n",
    "        max=sum\n",
    "          \n",
    "print(max)\n",
    "    "
   ]
  },
  {
   "cell_type": "code",
   "execution_count": 29,
   "id": "f2ad2108-da63-445f-9cd1-b3a7e353efcd",
   "metadata": {},
   "outputs": [
    {
     "name": "stdout",
     "output_type": "stream",
     "text": [
      "19\n"
     ]
    },
    {
     "name": "stdin",
     "output_type": "stream",
     "text": [
      "enter the any consecutive numbers: 15\n"
     ]
    },
    {
     "name": "stdout",
     "output_type": "stream",
     "text": [
      "88\n"
     ]
    }
   ],
   "source": [
    "l=[2,4,6,1,3,7,4,6,9,3,6,8,3,6,4,1,3,9,6,4,5,6,8,3,7,3,6,8,2,4,6,1,3,7,4,6,9,3,6,8,3,6,4,1,3,9,6,4,5,6,8,3,7,3,6,8]\n",
    "max=0\n",
    "for x in range(0,len(l)-2):\n",
    "    sum=l[x]+l[x+1]+l[x+2]\n",
    "    if(max<sum):\n",
    "        max=sum\n",
    "          \n",
    "print(max)\n",
    "max=0\n",
    "x=int(input(\"enter the any consecutive numbers:\"))\n",
    "for x in range(0,len(l)-15):\n",
    "    sum=l[x]+l[x+1]+l[x+2]+l[x+3]+l[x+4]+l[x+5]+l[x+6]+l[x+6]+l[x+7]+l[x+8]+l[x+9]+l[x+10]+l[x+11]+l[x+12]+l[x+13]+l[x+14]\n",
    "    if(max<sum):\n",
    "        max=sum\n",
    "          \n",
    "print(max)\n"
   ]
  },
  {
   "cell_type": "code",
   "execution_count": 36,
   "id": "0984f531-eb05-4cf7-8d68-303223171410",
   "metadata": {},
   "outputs": [
    {
     "name": "stdin",
     "output_type": "stream",
     "text": [
      "enter the consecutive numbers: 15\n"
     ]
    },
    {
     "name": "stdout",
     "output_type": "stream",
     "text": [
      "81\n"
     ]
    }
   ],
   "source": [
    "l=[2,4,6,1,3,7,4,6,9,3,6,8,3,6,4,1,3,9,6,4,5,6,8,3,7,3,6,8,2,4,6,1,3,7,4,6,\n",
    "   9,3,6,8,3,6,4,1,3,9,6,4,5,6,8,3,7,3,6,8,2,4,6,1,3,7,4,6,9,3,6,8,3,6,4,1,\n",
    "   3,9,6,4,5,6,8,3,7,3,6,8,2,4,6,1,3,7,4,6,9,3,6,8,3,6,4,1,3,9,6,4,5,6,8,3,7,3,6,8]\n",
    "\n",
    "max=0\n",
    "\n",
    "con=int(input(\"enter the consecutive numbers:\"))\n",
    "\n",
    "for x in range(0,len(l)-con):\n",
    "    s=0\n",
    "    for j in range(0,con):\n",
    "        s=s+l[x+j]\n",
    "    if max<s:\n",
    "        max=s\n",
    "          \n",
    "print(max)\n"
   ]
  },
  {
   "cell_type": "code",
   "execution_count": 6,
   "id": "16d3f9f3-4a46-4b9a-a712-d92cc94b5365",
   "metadata": {},
   "outputs": [
    {
     "name": "stdin",
     "output_type": "stream",
     "text": [
      "enter the consecutive numbers: 12\n"
     ]
    },
    {
     "name": "stdout",
     "output_type": "stream",
     "text": [
      "68\n"
     ]
    }
   ],
   "source": [
    "l=[2,4,6,1,3,7,4,6,9,3,6,8,3,6,4,1,3,9,6,4,5,6,8,3,7,3,6,8,2,4,6,1,3,7,4,6,9,3,6,8,3,6,4,1,3,9,6,4,5,6,8,3,7,3,6,8,2,4,6,1,3,7,4,6,9,3,6,8,3,6,4,1]\n",
    "max=0\n",
    "sum=0\n",
    "con=int(input('enter the consecutive numbers:'))\n",
    "for x in range(0,con):\n",
    "    sum=sum+l[x]\n",
    "\n",
    "for x in range (0,len(l)-con-1):   \n",
    "    if max<sum:\n",
    "        max=sum\n",
    "    sum=sum+l[x+con]-l[x]\n",
    "\n",
    "print(max)\n",
    "\n"
   ]
  },
  {
   "cell_type": "code",
   "execution_count": 2,
   "id": "4e8f0b7e-ade7-4472-9930-1b762def2a0a",
   "metadata": {},
   "outputs": [
    {
     "name": "stdout",
     "output_type": "stream",
     "text": [
      "[1, 2, 3, 4, 5, 6, 7, 8, 9]\n"
     ]
    }
   ],
   "source": [
    "l=[3,5,2,6,7,4,8,1,9]\n",
    "l.sort()\n",
    "print(l)"
   ]
  },
  {
   "cell_type": "code",
   "execution_count": 12,
   "id": "722b9156-6d9c-4fb3-9ef0-a90c057fc1d1",
   "metadata": {},
   "outputs": [
    {
     "name": "stdout",
     "output_type": "stream",
     "text": [
      "[9, 8, 7, 6, 5, 4, 3, 2, 1]\n"
     ]
    }
   ],
   "source": [
    "l=[3,5,2,6,7,4,8,1,9]\n",
    "l.sort(reverse=True)\n",
    "\n",
    "print(l)"
   ]
  },
  {
   "cell_type": "code",
   "execution_count": 4,
   "id": "9ddcf3f4-5a56-48df-bb0b-3dbc20e1a337",
   "metadata": {},
   "outputs": [
    {
     "name": "stdout",
     "output_type": "stream",
     "text": [
      "Sorted list: [1, 2, 3, 4, 5, 6, 7, 8, 9]\n"
     ]
    }
   ],
   "source": [
    "#bubble sort\n",
    "def bubble_sort(l):\n",
    "    n = len(l)\n",
    "    for i in range(n):\n",
    "        for j in range(0, n-i-1):\n",
    "            if l[j] > l[j+1]:\n",
    "                l[j], l[j+1] = l[j+1], l[j]\n",
    "\n",
    "\n",
    "l=[3,5,2,6,7,4,8,1,9]\n",
    "bubble_sort(l)\n",
    "print(\"Sorted list:\", l)"
   ]
  },
  {
   "cell_type": "code",
   "execution_count": null,
   "id": "6516ef28-fec9-4ca1-93ec-165afd5f8200",
   "metadata": {},
   "outputs": [],
   "source": [
    "#insertion sort\n",
    "loop will work reverse order \n",
    "i=0->n\n",
    "j=i->-1,-1\n",
    "2,8,6,5,7,3,1,4"
   ]
  },
  {
   "cell_type": "code",
   "execution_count": 2,
   "id": "2292a647-1e66-4d36-bb93-6ba8dc8c2dd1",
   "metadata": {},
   "outputs": [
    {
     "name": "stdout",
     "output_type": "stream",
     "text": [
      "sorted list is: [1, 2, 3, 4, 5, 6, 7, 8]\n"
     ]
    }
   ],
   "source": [
    "def insertion_sort(l):\n",
    "    for i in range(1,len(l)):\n",
    "        key=l[i]\n",
    "        j=i-1\n",
    "        while j>=0 and l[j]>key:\n",
    "            l[j+1]=l[j]\n",
    "            j-=1\n",
    "            l[j+1]=key\n",
    "            \n",
    "\n",
    "l=[2,8,6,5,7,3,1,4]\n",
    "insertion_sort(l)\n",
    "print(\"sorted list is:\",l)\n",
    "\n",
    "\n",
    "            \n",
    "            "
   ]
  },
  {
   "cell_type": "code",
   "execution_count": null,
   "id": "733bdba9-4669-44a0-abd1-077af100ff88",
   "metadata": {},
   "outputs": [],
   "source": [
    "2,8,4,5,7,3,6,1,9\n",
    "#selection sort (smallest element)\n",
    "#loop to find the minmum(once minmum is found swap the initial  element)\n",
    "arr[i],arr[pos_min]\n",
    "arr=[2,8,4,5,7,3,6,1,9]\n",
    "\n",
    "\n",
    "\n"
   ]
  },
  {
   "cell_type": "code",
   "execution_count": 4,
   "id": "df933ffb-0cf7-466c-b976-2e9f13e88f9a",
   "metadata": {},
   "outputs": [
    {
     "name": "stdout",
     "output_type": "stream",
     "text": [
      "[1, 4, 5, 6, 7, 8, 9]\n"
     ]
    }
   ],
   "source": [
    "arr=[5,4,8,1,9,6,7]\n",
    "for i in range(0,len(arr)):\n",
    "    for j in range(0,len(arr)-1):\n",
    "        if arr[j]>arr[j+1]:\n",
    "           temp=arr[j]\n",
    "           arr[j]=arr[j+1]\n",
    "           arr[j+1]=temp\n",
    "print(arr)\n",
    "    "
   ]
  },
  {
   "cell_type": "code",
   "execution_count": null,
   "id": "1de22990-c3ae-454a-9322-a77f3f72d848",
   "metadata": {},
   "outputs": [],
   "source": []
  }
 ],
 "metadata": {
  "kernelspec": {
   "display_name": "Python 3 (ipykernel)",
   "language": "python",
   "name": "python3"
  },
  "language_info": {
   "codemirror_mode": {
    "name": "ipython",
    "version": 3
   },
   "file_extension": ".py",
   "mimetype": "text/x-python",
   "name": "python",
   "nbconvert_exporter": "python",
   "pygments_lexer": "ipython3",
   "version": "3.12.3"
  }
 },
 "nbformat": 4,
 "nbformat_minor": 5
}
