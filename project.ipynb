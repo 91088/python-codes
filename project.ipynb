{
 "cells": [
  {
   "cell_type": "code",
   "execution_count": 6,
   "id": "90177861-b0bf-4ece-8c8e-d6ac2ee633c3",
   "metadata": {},
   "outputs": [
    {
     "name": "stdin",
     "output_type": "stream",
     "text": [
      "enter the temperature in celsius 41\n"
     ]
    },
    {
     "name": "stdout",
     "output_type": "stream",
     "text": [
      "the temperature in fahrenhiet is: 105.8\n"
     ]
    }
   ],
   "source": [
    "#convert a temperature from celsius to fahrenheit\n",
    "celsius=float(input(\"enter the temperature in celsius\"))\n",
    "fahrenheit=(celsius*9/5)+32\n",
    "print(\"the temperature in fahrenhiet is:\",fahrenheit)\n",
    "    \n"
   ]
  },
  {
   "cell_type": "code",
   "execution_count": 7,
   "id": "2cd017a9-4aeb-479f-b104-115106ca0b63",
   "metadata": {},
   "outputs": [
    {
     "name": "stdout",
     "output_type": "stream",
     "text": [
      "second largest element is: 9\n"
     ]
    }
   ],
   "source": [
    "#Find the second largest element in a list\n",
    "list1=[11,9,6,7,3,4]\n",
    "list2=list(set(list1))\n",
    "list2.sort()\n",
    "print(\"second largest element is:\",list2[-2])"
   ]
  },
  {
   "cell_type": "code",
   "execution_count": 9,
   "id": "83616cb8-03c0-47b6-b29f-75691756ddc6",
   "metadata": {},
   "outputs": [
    {
     "name": "stdout",
     "output_type": "stream",
     "text": [
      "6 has occurred 5 times\n"
     ]
    }
   ],
   "source": [
    "#count the occurrences of each element in a list\n",
    "def countX(lst, x):\n",
    "\n",
    "    count = 0\n",
    "\n",
    "    for ele in lst:\n",
    "\n",
    "        if (ele == x):\n",
    "\n",
    "            count = count + 1\n",
    "\n",
    "    return count\n",
    " \n",
    " \n",
    "# Driver Code\n",
    "\n",
    "lst = [6, 6, 8, 10, 6, 20, 10, 6, 6]\n",
    "\n",
    "x = 6\n",
    "\n",
    "print('{} has occurred {} times'.format(x,countX(lst, x)))\n"
   ]
  },
  {
   "cell_type": "code",
   "execution_count": 10,
   "id": "4ecbc589-f0b8-4b52-8ec5-920a6fc93152",
   "metadata": {},
   "outputs": [
    {
     "name": "stdin",
     "output_type": "stream",
     "text": [
      "Enter string: hello\n"
     ]
    },
    {
     "name": "stdout",
     "output_type": "stream",
     "text": [
      "Number of vowels are:\n",
      "2\n"
     ]
    }
   ],
   "source": [
    "#count the number of vowels in a string\n",
    "string=input(\"Enter string:\")\n",
    "vowels=0\n",
    "for i in string:\n",
    "      if(i=='a' or i=='e' or i=='i' or i=='o' or i=='u'):\n",
    "            vowels=vowels+1\n",
    "print(\"Number of vowels are:\")\n",
    "print(vowels)\n",
    "\n"
   ]
  },
  {
   "cell_type": "code",
   "execution_count": 11,
   "id": "6ee579f1-349b-4a69-a7d5-10acf5f9f278",
   "metadata": {},
   "outputs": [
    {
     "name": "stdout",
     "output_type": "stream",
     "text": [
      "s\n",
      "l\n",
      "e\n",
      "v\n",
      "o\n",
      "n\n",
      "original string is:novels\n",
      "reversed string is:slevon\n"
     ]
    }
   ],
   "source": [
    "#reverse the words in a given sentence\n",
    "string=\"novels\"\n",
    "for char in string[::-1]:\n",
    "    print(char)\n",
    "def reverse(string):\n",
    "    string=string[::-1]\n",
    "    return string\n",
    "s=\"novels\"\n",
    "print(\"original string is:\",end=\"\")\n",
    "print(s)\n",
    "\n",
    "print(\"reversed string is:\",end=\"\")\n",
    "print(reverse(s))\n",
    "\n",
    "          \n",
    "    "
   ]
  },
  {
   "cell_type": "code",
   "execution_count": 15,
   "id": "cd5b44ea-a171-4109-9e6e-29817edb193f",
   "metadata": {},
   "outputs": [
    {
     "name": "stdout",
     "output_type": "stream",
     "text": [
      "even is = 2\n"
     ]
    }
   ],
   "source": [
    "#find the sum of all evev numbers in a list\n",
    "l=[1,1,2,3,5,5]\n",
    "even=2\n",
    "for i in l:\n",
    "    if i%2==0:\n",
    "        print(\"even is =\",even)\n"
   ]
  },
  {
   "cell_type": "code",
   "execution_count": 22,
   "id": "d5f4e6d4-2eb1-4d58-943c-d788da0ff17f",
   "metadata": {},
   "outputs": [],
   "source": [
    "#Create a file Named as Fruit name\n",
    "#and Add the fruit names by taking input from the user.\n",
    "\n",
    "#after that replace a fruit name with other fruit name entered by the user.\n",
    "\n",
    "#for example:\n",
    "\n",
    "#file have \n",
    "#Apple\n",
    "#Banana\n",
    "#Mango\n",
    "#Grapes\n",
    "\n",
    "#now replace Banana with watermelon\n",
    "\n",
    "# Function to read fruits from file\n",
    "def read_fruits(filename):\n",
    "    with open(filename, 'r') as file:\n",
    "        fruits = file.readlines()\n",
    "    return fruits\n",
    "\n",
    "# Function to write fruits to file\n",
    "def write_fruits(filename, fruits):\n",
    "    with open(filename, 'w') as file:\n",
    "        file.writelines(fruits)\n",
    "\n",
    "# Function to replace fruit\n",
    "def replace_fruit(fruits, old_fruit, new_fruit):\n",
    "    for i in range(len(fruits)):\n",
    "        if fruits[i].strip() == old_fruit:\n",
    "            fruits[i] = new_fruit + '\\n'\n",
    "            break\n",
    "\n",
    "# Main function\n",
    "def main():\n",
    "    filename = input(\"Enter filename: \")\n",
    "    fruits = read_fruits(filename)\n",
    "\n",
    "    print(\"Fruits in the file:\")\n",
    "    for fruit in fruits:\n",
    "        print(fruit.strip())\n",
    "\n",
    "    old_fruit = input(\"Enter the fruit to replace: \")\n",
    "    new_fruit = input(\"Enter the new fruit: \")\n",
    "\n",
    "    replace_fruit(fruits, old_fruit, new_fruit)\n",
    "\n",
    "    write_fruits(filename, fruits)\n",
    "\n",
    "    print(\"Fruit replaced successfully.\")\n",
    "\n"
   ]
  },
  {
   "cell_type": "code",
   "execution_count": null,
   "id": "2e8f3ad1-5dff-4e3e-8012-9e93c96bfcd0",
   "metadata": {},
   "outputs": [],
   "source": []
  },
  {
   "cell_type": "code",
   "execution_count": null,
   "id": "acbac0be-f43a-4e3e-b618-ae7fce50058d",
   "metadata": {},
   "outputs": [],
   "source": []
  }
 ],
 "metadata": {
  "kernelspec": {
   "display_name": "Python 3 (ipykernel)",
   "language": "python",
   "name": "python3"
  },
  "language_info": {
   "codemirror_mode": {
    "name": "ipython",
    "version": 3
   },
   "file_extension": ".py",
   "mimetype": "text/x-python",
   "name": "python",
   "nbconvert_exporter": "python",
   "pygments_lexer": "ipython3",
   "version": "3.12.3"
  }
 },
 "nbformat": 4,
 "nbformat_minor": 5
}
